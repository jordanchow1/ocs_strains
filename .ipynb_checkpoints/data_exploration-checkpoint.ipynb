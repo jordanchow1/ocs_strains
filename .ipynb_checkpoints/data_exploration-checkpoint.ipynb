{
 "cells": [
  {
   "cell_type": "code",
   "execution_count": 1,
   "id": "179bc329-73ea-400a-9efb-b68872c22e7b",
   "metadata": {},
   "outputs": [],
   "source": [
    "import pandas as pd\n",
    "import matplotlib.pyplot as plt\n",
    "%matplotlib inline\n",
    "import seaborn as sns\n",
    "import numpy as np"
   ]
  },
  {
   "cell_type": "code",
   "execution_count": 2,
   "id": "1232bd4b-b1d6-4ef8-9c0a-fed2a8c0903b",
   "metadata": {},
   "outputs": [],
   "source": [
    "df = pd.read_csv('ocs_cleaned.csv')"
   ]
  },
  {
   "cell_type": "markdown",
   "id": "1c55416b-0311-4c57-bef5-370d3d8e4576",
   "metadata": {},
   "source": [
    "#### Overview"
   ]
  },
  {
   "cell_type": "code",
   "execution_count": 3,
   "id": "e6173014-2d3e-4f5e-914f-459c23671ee7",
   "metadata": {},
   "outputs": [
    {
     "data": {
      "text/html": [
       "<div>\n",
       "<style scoped>\n",
       "    .dataframe tbody tr th:only-of-type {\n",
       "        vertical-align: middle;\n",
       "    }\n",
       "\n",
       "    .dataframe tbody tr th {\n",
       "        vertical-align: top;\n",
       "    }\n",
       "\n",
       "    .dataframe thead th {\n",
       "        text-align: right;\n",
       "    }\n",
       "</style>\n",
       "<table border=\"1\" class=\"dataframe\">\n",
       "  <thead>\n",
       "    <tr style=\"text-align: right;\">\n",
       "      <th></th>\n",
       "      <th>potency</th>\n",
       "      <th>thc_min</th>\n",
       "      <th>thc_max</th>\n",
       "      <th>cbd_min</th>\n",
       "      <th>cbd_max</th>\n",
       "      <th>price</th>\n",
       "      <th>price_per_gram</th>\n",
       "      <th>grams</th>\n",
       "    </tr>\n",
       "  </thead>\n",
       "  <tbody>\n",
       "    <tr>\n",
       "      <th>count</th>\n",
       "      <td>456.000000</td>\n",
       "      <td>456.000000</td>\n",
       "      <td>456.000000</td>\n",
       "      <td>456.000000</td>\n",
       "      <td>456.000000</td>\n",
       "      <td>456.000000</td>\n",
       "      <td>456.000000</td>\n",
       "      <td>456.000000</td>\n",
       "    </tr>\n",
       "    <tr>\n",
       "      <th>mean</th>\n",
       "      <td>4.780702</td>\n",
       "      <td>17.248684</td>\n",
       "      <td>22.978289</td>\n",
       "      <td>0.327873</td>\n",
       "      <td>1.776294</td>\n",
       "      <td>51.197105</td>\n",
       "      <td>7.771053</td>\n",
       "      <td>7.958333</td>\n",
       "    </tr>\n",
       "    <tr>\n",
       "      <th>std</th>\n",
       "      <td>0.689115</td>\n",
       "      <td>3.654808</td>\n",
       "      <td>4.116879</td>\n",
       "      <td>1.674456</td>\n",
       "      <td>2.878679</td>\n",
       "      <td>40.120408</td>\n",
       "      <td>2.225878</td>\n",
       "      <td>7.999342</td>\n",
       "    </tr>\n",
       "    <tr>\n",
       "      <th>min</th>\n",
       "      <td>1.000000</td>\n",
       "      <td>0.000000</td>\n",
       "      <td>1.000000</td>\n",
       "      <td>0.000000</td>\n",
       "      <td>0.000000</td>\n",
       "      <td>7.200000</td>\n",
       "      <td>3.570000</td>\n",
       "      <td>1.000000</td>\n",
       "    </tr>\n",
       "    <tr>\n",
       "      <th>25%</th>\n",
       "      <td>5.000000</td>\n",
       "      <td>16.000000</td>\n",
       "      <td>22.000000</td>\n",
       "      <td>0.000000</td>\n",
       "      <td>1.000000</td>\n",
       "      <td>26.950000</td>\n",
       "      <td>6.100000</td>\n",
       "      <td>3.500000</td>\n",
       "    </tr>\n",
       "    <tr>\n",
       "      <th>50%</th>\n",
       "      <td>5.000000</td>\n",
       "      <td>18.000000</td>\n",
       "      <td>24.000000</td>\n",
       "      <td>0.000000</td>\n",
       "      <td>1.000000</td>\n",
       "      <td>36.450000</td>\n",
       "      <td>7.700000</td>\n",
       "      <td>3.500000</td>\n",
       "    </tr>\n",
       "    <tr>\n",
       "      <th>75%</th>\n",
       "      <td>5.000000</td>\n",
       "      <td>20.000000</td>\n",
       "      <td>25.000000</td>\n",
       "      <td>0.000000</td>\n",
       "      <td>1.200000</td>\n",
       "      <td>65.450000</td>\n",
       "      <td>9.700000</td>\n",
       "      <td>7.000000</td>\n",
       "    </tr>\n",
       "    <tr>\n",
       "      <th>max</th>\n",
       "      <td>5.000000</td>\n",
       "      <td>23.000000</td>\n",
       "      <td>29.700000</td>\n",
       "      <td>14.000000</td>\n",
       "      <td>20.000000</td>\n",
       "      <td>249.950000</td>\n",
       "      <td>13.710000</td>\n",
       "      <td>30.000000</td>\n",
       "    </tr>\n",
       "  </tbody>\n",
       "</table>\n",
       "</div>"
      ],
      "text/plain": [
       "          potency     thc_min     thc_max     cbd_min     cbd_max       price  \\\n",
       "count  456.000000  456.000000  456.000000  456.000000  456.000000  456.000000   \n",
       "mean     4.780702   17.248684   22.978289    0.327873    1.776294   51.197105   \n",
       "std      0.689115    3.654808    4.116879    1.674456    2.878679   40.120408   \n",
       "min      1.000000    0.000000    1.000000    0.000000    0.000000    7.200000   \n",
       "25%      5.000000   16.000000   22.000000    0.000000    1.000000   26.950000   \n",
       "50%      5.000000   18.000000   24.000000    0.000000    1.000000   36.450000   \n",
       "75%      5.000000   20.000000   25.000000    0.000000    1.200000   65.450000   \n",
       "max      5.000000   23.000000   29.700000   14.000000   20.000000  249.950000   \n",
       "\n",
       "       price_per_gram       grams  \n",
       "count      456.000000  456.000000  \n",
       "mean         7.771053    7.958333  \n",
       "std          2.225878    7.999342  \n",
       "min          3.570000    1.000000  \n",
       "25%          6.100000    3.500000  \n",
       "50%          7.700000    3.500000  \n",
       "75%          9.700000    7.000000  \n",
       "max         13.710000   30.000000  "
      ]
     },
     "execution_count": 3,
     "metadata": {},
     "output_type": "execute_result"
    }
   ],
   "source": [
    "df.describe()"
   ]
  },
  {
   "cell_type": "code",
   "execution_count": 4,
   "id": "089d9e0d-a324-4cc3-9564-a1ca523c03e4",
   "metadata": {},
   "outputs": [
    {
     "data": {
      "text/plain": [
       "name               object\n",
       "type               object\n",
       "producer           object\n",
       "brand              object\n",
       "potency             int64\n",
       "thc_min           float64\n",
       "thc_max           float64\n",
       "cbd_min           float64\n",
       "cbd_max           float64\n",
       "price             float64\n",
       "price_per_gram    float64\n",
       "grams             float64\n",
       "dtype: object"
      ]
     },
     "execution_count": 4,
     "metadata": {},
     "output_type": "execute_result"
    }
   ],
   "source": [
    "df.dtypes"
   ]
  },
  {
   "cell_type": "markdown",
   "id": "14b72d55-e0b7-4405-88cf-5c32d170cdc9",
   "metadata": {},
   "source": [
    "#### Histograms"
   ]
  },
  {
   "cell_type": "code",
   "execution_count": 5,
   "id": "5150dfc6-87a3-489a-95ac-22c45998a605",
   "metadata": {},
   "outputs": [
    {
     "data": {
      "text/plain": [
       "Text(0, 0.5, 'Frequency')"
      ]
     },
     "execution_count": 5,
     "metadata": {},
     "output_type": "execute_result"
    },
    {
     "data": {
      "image/png": "[encoded data removed]",
      "text/plain": [
       "<Figure size 432x288 with 1 Axes>"
      ]
     },
     "metadata": {
      "needs_background": "light"
     },
     "output_type": "display_data"
    }
   ],
   "source": [
    "plt.hist(df['price'])\n",
    "plt.title('Distribution of Price')\n",
    "plt.xlabel('Price')\n",
    "plt.ylabel('Frequency')"
   ]
  },
  {
   "cell_type": "code",
   "execution_count": 6,
   "id": "169e5e8a-3096-40b6-b2ae-bab9ddcb3b41",
   "metadata": {},
   "outputs": [
    {
     "data": {
      "text/plain": [
       "Text(0, 0.5, 'Frequency')"
      ]
     },
     "execution_count": 6,
     "metadata": {},
     "output_type": "execute_result"
    },
    {
     "data": {
      "image/png": "[encoded data removed]",
      "text/plain": [
       "<Figure size 432x288 with 1 Axes>"
      ]
     },
     "metadata": {
      "needs_background": "light"
     },
     "output_type": "display_data"
    }
   ],
   "source": [
    "plt.hist(df['price_per_gram'])\n",
    "plt.title('Distribution of Price Per Gram')\n",
    "plt.xlabel('Price Per Gram')\n",
    "plt.ylabel('Frequency')"
   ]
  },
  {
   "cell_type": "code",
   "execution_count": 7,
   "id": "60d15c70-10f4-4617-8673-30b25e7cd3cd",
   "metadata": {},
   "outputs": [
    {
     "data": {
      "text/plain": [
       "Text(0, 0.5, 'Frequency')"
      ]
     },
     "execution_count": 7,
     "metadata": {},
     "output_type": "execute_result"
    },
    {
     "data": {
      "image/png": "[encoded data removed]",
      "text/plain": [
       "<Figure size 432x288 with 1 Axes>"
      ]
     },
     "metadata": {
      "needs_background": "light"
     },
     "output_type": "display_data"
    }
   ],
   "source": [
    "plt.hist(df['thc_min'])\n",
    "plt.title('Distribution of thc_min')\n",
    "plt.xlabel('THC Amount (mg)')\n",
    "plt.ylabel('Frequency')"
   ]
  },
  {
   "cell_type": "code",
   "execution_count": 8,
   "id": "cee1f759-7acf-4e6f-8b7e-7aa35594c8da",
   "metadata": {},
   "outputs": [
    {
     "data": {
      "text/plain": [
       "Text(0, 0.5, 'Frequency')"
      ]
     },
     "execution_count": 8,
     "metadata": {},
     "output_type": "execute_result"
    },
    {
     "data": {
      "image/png": "[encoded data removed]",
      "text/plain": [
       "<Figure size 432x288 with 1 Axes>"
      ]
     },
     "metadata": {
      "needs_background": "light"
     },
     "output_type": "display_data"
    }
   ],
   "source": [
    "plt.hist(df['thc_max'])\n",
    "plt.title('Distribution of thc_max')\n",
    "plt.xlabel('THC Amount (mg)')\n",
    "plt.ylabel('Frequency')"
   ]
  },
  {
   "cell_type": "code",
   "execution_count": 9,
   "id": "061209d9-7a0d-4d05-906d-d1127d333f06",
   "metadata": {},
   "outputs": [
    {
     "data": {
      "text/plain": [
       "Text(0, 0.5, 'Frequency')"
      ]
     },
     "execution_count": 9,
     "metadata": {},
     "output_type": "execute_result"
    },
    {
     "data": {
      "image/png": "[encoded data removed]",
      "text/plain": [
       "<Figure size 432x288 with 1 Axes>"
      ]
     },
     "metadata": {
      "needs_background": "light"
     },
     "output_type": "display_data"
    }
   ],
   "source": [
    "plt.hist(df['cbd_min'])\n",
    "plt.title('Distribution of cbd_min')\n",
    "plt.xlabel('CBD Amount (mg)')\n",
    "plt.ylabel('Frequency')"
   ]
  },
  {
   "cell_type": "code",
   "execution_count": 10,
   "id": "7413b023-0e8a-48f6-8be7-2ed0f5ece6aa",
   "metadata": {},
   "outputs": [
    {
     "data": {
      "text/plain": [
       "Text(0, 0.5, 'Frequency')"
      ]
     },
     "execution_count": 10,
     "metadata": {},
     "output_type": "execute_result"
    },
    {
     "data": {
      "image/png": "[encoded data removed]",
      "text/plain": [
       "<Figure size 432x288 with 1 Axes>"
      ]
     },
     "metadata": {
      "needs_background": "light"
     },
     "output_type": "display_data"
    }
   ],
   "source": [
    "plt.hist(df['cbd_max'])\n",
    "plt.title('Distribution of cbd_max')\n",
    "plt.xlabel('CBD Amount (mg)')\n",
    "plt.ylabel('Frequency')"
   ]
  },
  {
   "cell_type": "markdown",
   "id": "3b301add-f1fe-4a0f-ac56-4697c98d69b9",
   "metadata": {},
   "source": [
    "#### Bar Charts"
   ]
  },
  {
   "cell_type": "code",
   "execution_count": 11,
   "id": "f52645b7-86d5-4459-bb51-aa1d816fa046",
   "metadata": {},
   "outputs": [
    {
     "data": {
      "text/plain": [
       "Text(0, 0.5, 'Frequency')"
      ]
     },
     "execution_count": 11,
     "metadata": {},
     "output_type": "execute_result"
    },
    {
     "data": {
      "image/png": "[encoded data removed]",
      "text/plain": [
       "<Figure size 432x288 with 1 Axes>"
      ]
     },
     "metadata": {
      "needs_background": "light"
     },
     "output_type": "display_data"
    }
   ],
   "source": [
    "plt.bar(x = df['potency'].unique(), height = df['potency'].value_counts())\n",
    "plt.title('Distribution of Potency')\n",
    "plt.xlabel('Potency (5-Very Strong; 1-Little to Minimal')\n",
    "plt.ylabel('Frequency')"
   ]
  },
  {
   "cell_type": "code",
   "execution_count": 20,
   "id": "52b6c6f8-8530-4cf6-92d6-82f33a48f7c3",
   "metadata": {},
   "outputs": [
    {
     "data": {
      "text/plain": [
       "Text(0, 0.5, 'Frequency')"
      ]
     },
     "execution_count": 20,
     "metadata": {},
     "output_type": "execute_result"
    },
    {
     "data": {
      "image/png": "[encoded data removed]",
      "text/plain": [
       "<Figure size 432x288 with 1 Axes>"
      ]
     },
     "metadata": {
      "needs_background": "light"
     },
     "output_type": "display_data"
    }
   ],
   "source": [
    "plt.bar(x = df['type'].unique(), height = df['type'].value_counts(), width = 0.4)\n",
    "plt.title('Distribution of Type')\n",
    "plt.xlabel('Type')\n",
    "plt.ylabel('Frequency')"
   ]
  },
  {
   "cell_type": "markdown",
   "id": "bbbd2f1d-44c0-459d-bdc3-0931db036e79",
   "metadata": {},
   "source": [
    "#### Scatterplots"
   ]
  },
  {
   "cell_type": "code",
   "execution_count": 22,
   "id": "38c2f190-b00d-446b-9c0f-a14ddb7798a3",
   "metadata": {},
   "outputs": [
    {
     "data": {
      "text/plain": [
       "Index(['name', 'type', 'producer', 'brand', 'potency', 'thc_min', 'thc_max',\n",
       "       'cbd_min', 'cbd_max', 'price', 'price_per_gram', 'grams'],\n",
       "      dtype='object')"
      ]
     },
     "execution_count": 22,
     "metadata": {},
     "output_type": "execute_result"
    }
   ],
   "source": [
    "df.columns"
   ]
  },
  {
   "cell_type": "code",
   "execution_count": 23,
   "id": "067681b0-fa1a-4365-ad43-75aadf0ba1cf",
   "metadata": {},
   "outputs": [
    {
     "data": {
      "text/plain": [
       "(456, 12)"
      ]
     },
     "execution_count": 23,
     "metadata": {},
     "output_type": "execute_result"
    }
   ],
   "source": [
    "df.shape"
   ]
  },
  {
   "cell_type": "code",
   "execution_count": 24,
   "id": "2a98a259-c644-4a33-8b21-b78004e0b595",
   "metadata": {},
   "outputs": [
    {
     "data": {
      "text/plain": [
       "Text(0, 0.5, 'Price (CAD$)')"
      ]
     },
     "execution_count": 24,
     "metadata": {},
     "output_type": "execute_result"
    },
    {
     "data": {
      "image/png": "[encoded data removed]",
      "text/plain": [
       "<Figure size 432x288 with 1 Axes>"
      ]
     },
     "metadata": {
      "needs_background": "light"
     },
     "output_type": "display_data"
    }
   ],
   "source": [
    "plt.scatter(x = df['grams'][df['price'] < 100], y = df['price'][df['price'] < 100])\n",
    "plt.title('Price Below $100 vs Gram')\n",
    "plt.xlabel('Gram')\n",
    "plt.ylabel('Price (CAD$)')"
   ]
  },
  {
   "cell_type": "code",
   "execution_count": 25,
   "id": "2743d92c-f95e-44de-bb51-b7e8b55364ad",
   "metadata": {},
   "outputs": [
    {
     "data": {
      "text/plain": [
       "Text(0, 0.5, 'Price (CAD$)')"
      ]
     },
     "execution_count": 25,
     "metadata": {},
     "output_type": "execute_result"
    },
    {
     "data": {
      "image/png": "[encoded data removed]",
      "text/plain": [
       "<Figure size 432x288 with 1 Axes>"
      ]
     },
     "metadata": {
      "needs_background": "light"
     },
     "output_type": "display_data"
    }
   ],
   "source": [
    "plt.scatter(x = df['grams'][df['price'] >= 100], y = df['price'][df['price'] >= 100])\n",
    "plt.title('Price Above $100 vs Gram')\n",
    "plt.xlabel('Gram')\n",
    "plt.ylabel('Price (CAD$)')"
   ]
  },
  {
   "cell_type": "code",
   "execution_count": 26,
   "id": "dc8e9d6e-fab1-4ac9-81d6-e37de77d6710",
   "metadata": {},
   "outputs": [
    {
     "data": {
      "text/plain": [
       "Text(0, 0.5, 'Price (CAD$)')"
      ]
     },
     "execution_count": 26,
     "metadata": {},
     "output_type": "execute_result"
    },
    {
     "data": {
      "image/png": "[encoded data removed]",
      "text/plain": [
       "<Figure size 432x288 with 1 Axes>"
      ]
     },
     "metadata": {
      "needs_background": "light"
     },
     "output_type": "display_data"
    }
   ],
   "source": [
    "plt.scatter(x = df['grams'], y = df['price'])\n",
    "plt.title('Price vs Gram')\n",
    "plt.xlabel('Gram')\n",
    "plt.ylabel('Price (CAD$)')"
   ]
  },
  {
   "cell_type": "markdown",
   "id": "f25a6241",
   "metadata": {},
   "source": [
    "#### Statistics"
   ]
  },
  {
   "cell_type": "code",
   "execution_count": 37,
   "id": "f40dac57-f301-40e3-8436-50392dbb1c8e",
   "metadata": {},
   "outputs": [
    {
     "data": {
      "text/html": [
       "<div>\n",
       "<style scoped>\n",
       "    .dataframe tbody tr th:only-of-type {\n",
       "        vertical-align: middle;\n",
       "    }\n",
       "\n",
       "    .dataframe tbody tr th {\n",
       "        vertical-align: top;\n",
       "    }\n",
       "\n",
       "    .dataframe thead th {\n",
       "        text-align: right;\n",
       "    }\n",
       "</style>\n",
       "<table border=\"1\" class=\"dataframe\">\n",
       "  <thead>\n",
       "    <tr style=\"text-align: right;\">\n",
       "      <th></th>\n",
       "      <th>potency</th>\n",
       "      <th>thc_min</th>\n",
       "      <th>thc_max</th>\n",
       "      <th>cbd_min</th>\n",
       "      <th>cbd_max</th>\n",
       "      <th>price</th>\n",
       "      <th>price_per_gram</th>\n",
       "      <th>grams</th>\n",
       "    </tr>\n",
       "    <tr>\n",
       "      <th>type</th>\n",
       "      <th></th>\n",
       "      <th></th>\n",
       "      <th></th>\n",
       "      <th></th>\n",
       "      <th></th>\n",
       "      <th></th>\n",
       "      <th></th>\n",
       "      <th></th>\n",
       "    </tr>\n",
       "  </thead>\n",
       "  <tbody>\n",
       "    <tr>\n",
       "      <th>Blend</th>\n",
       "      <td>5.000000</td>\n",
       "      <td>16.500000</td>\n",
       "      <td>22.000000</td>\n",
       "      <td>0.000000</td>\n",
       "      <td>1.500000</td>\n",
       "      <td>53.950000</td>\n",
       "      <td>4.140000</td>\n",
       "      <td>14.000000</td>\n",
       "    </tr>\n",
       "    <tr>\n",
       "      <th>Hybrid</th>\n",
       "      <td>4.649485</td>\n",
       "      <td>16.391753</td>\n",
       "      <td>22.267010</td>\n",
       "      <td>0.881443</td>\n",
       "      <td>2.977835</td>\n",
       "      <td>44.160103</td>\n",
       "      <td>8.189072</td>\n",
       "      <td>6.185567</td>\n",
       "    </tr>\n",
       "    <tr>\n",
       "      <th>Indica Dominant</th>\n",
       "      <td>4.934343</td>\n",
       "      <td>18.214646</td>\n",
       "      <td>23.978283</td>\n",
       "      <td>0.000000</td>\n",
       "      <td>1.209545</td>\n",
       "      <td>54.579545</td>\n",
       "      <td>7.806919</td>\n",
       "      <td>8.507576</td>\n",
       "    </tr>\n",
       "    <tr>\n",
       "      <th>Sativa Dominant</th>\n",
       "      <td>4.666667</td>\n",
       "      <td>16.577987</td>\n",
       "      <td>22.179245</td>\n",
       "      <td>0.402579</td>\n",
       "      <td>1.752516</td>\n",
       "      <td>51.243396</td>\n",
       "      <td>7.517044</td>\n",
       "      <td>8.279874</td>\n",
       "    </tr>\n",
       "  </tbody>\n",
       "</table>\n",
       "</div>"
      ],
      "text/plain": [
       "                  potency    thc_min    thc_max   cbd_min   cbd_max  \\\n",
       "type                                                                  \n",
       "Blend            5.000000  16.500000  22.000000  0.000000  1.500000   \n",
       "Hybrid           4.649485  16.391753  22.267010  0.881443  2.977835   \n",
       "Indica Dominant  4.934343  18.214646  23.978283  0.000000  1.209545   \n",
       "Sativa Dominant  4.666667  16.577987  22.179245  0.402579  1.752516   \n",
       "\n",
       "                     price  price_per_gram      grams  \n",
       "type                                                   \n",
       "Blend            53.950000        4.140000  14.000000  \n",
       "Hybrid           44.160103        8.189072   6.185567  \n",
       "Indica Dominant  54.579545        7.806919   8.507576  \n",
       "Sativa Dominant  51.243396        7.517044   8.279874  "
      ]
     },
     "execution_count": 37,
     "metadata": {},
     "output_type": "execute_result"
    }
   ],
   "source": [
    "df.groupby(['type']).mean()"
   ]
  },
  {
   "cell_type": "code",
   "execution_count": 38,
   "id": "6bac212b-4f3c-4f44-bd11-ac3d4e9165ef",
   "metadata": {},
   "outputs": [
    {
     "data": {
      "text/html": [
       "<div>\n",
       "<style scoped>\n",
       "    .dataframe tbody tr th:only-of-type {\n",
       "        vertical-align: middle;\n",
       "    }\n",
       "\n",
       "    .dataframe tbody tr th {\n",
       "        vertical-align: top;\n",
       "    }\n",
       "\n",
       "    .dataframe thead th {\n",
       "        text-align: right;\n",
       "    }\n",
       "</style>\n",
       "<table border=\"1\" class=\"dataframe\">\n",
       "  <thead>\n",
       "    <tr style=\"text-align: right;\">\n",
       "      <th></th>\n",
       "      <th>count</th>\n",
       "      <th>mean</th>\n",
       "      <th>std</th>\n",
       "      <th>min</th>\n",
       "      <th>25%</th>\n",
       "      <th>50%</th>\n",
       "      <th>75%</th>\n",
       "      <th>max</th>\n",
       "    </tr>\n",
       "    <tr>\n",
       "      <th>brand</th>\n",
       "      <th></th>\n",
       "      <th></th>\n",
       "      <th></th>\n",
       "      <th></th>\n",
       "      <th></th>\n",
       "      <th></th>\n",
       "      <th></th>\n",
       "      <th></th>\n",
       "    </tr>\n",
       "  </thead>\n",
       "  <tbody>\n",
       "    <tr>\n",
       "      <th>Bonify</th>\n",
       "      <td>2.0</td>\n",
       "      <td>14.950</td>\n",
       "      <td>0.000000</td>\n",
       "      <td>14.95</td>\n",
       "      <td>14.9500</td>\n",
       "      <td>14.950</td>\n",
       "      <td>14.9500</td>\n",
       "      <td>14.95</td>\n",
       "    </tr>\n",
       "    <tr>\n",
       "      <th>Northern Harvest</th>\n",
       "      <td>2.0</td>\n",
       "      <td>16.200</td>\n",
       "      <td>12.303658</td>\n",
       "      <td>7.50</td>\n",
       "      <td>11.8500</td>\n",
       "      <td>16.200</td>\n",
       "      <td>20.5500</td>\n",
       "      <td>24.90</td>\n",
       "    </tr>\n",
       "    <tr>\n",
       "      <th>Kiwi Cannabis</th>\n",
       "      <td>4.0</td>\n",
       "      <td>16.200</td>\n",
       "      <td>10.045895</td>\n",
       "      <td>7.50</td>\n",
       "      <td>7.5000</td>\n",
       "      <td>16.200</td>\n",
       "      <td>24.9000</td>\n",
       "      <td>24.90</td>\n",
       "    </tr>\n",
       "    <tr>\n",
       "      <th>Aurora</th>\n",
       "      <td>2.0</td>\n",
       "      <td>18.975</td>\n",
       "      <td>14.106780</td>\n",
       "      <td>9.00</td>\n",
       "      <td>13.9875</td>\n",
       "      <td>18.975</td>\n",
       "      <td>23.9625</td>\n",
       "      <td>28.95</td>\n",
       "    </tr>\n",
       "    <tr>\n",
       "      <th>Northern Green Canada</th>\n",
       "      <td>1.0</td>\n",
       "      <td>19.750</td>\n",
       "      <td>NaN</td>\n",
       "      <td>19.75</td>\n",
       "      <td>19.7500</td>\n",
       "      <td>19.750</td>\n",
       "      <td>19.7500</td>\n",
       "      <td>19.75</td>\n",
       "    </tr>\n",
       "    <tr>\n",
       "      <th>...</th>\n",
       "      <td>...</td>\n",
       "      <td>...</td>\n",
       "      <td>...</td>\n",
       "      <td>...</td>\n",
       "      <td>...</td>\n",
       "      <td>...</td>\n",
       "      <td>...</td>\n",
       "      <td>...</td>\n",
       "    </tr>\n",
       "    <tr>\n",
       "      <th>Legend</th>\n",
       "      <td>1.0</td>\n",
       "      <td>124.950</td>\n",
       "      <td>NaN</td>\n",
       "      <td>124.95</td>\n",
       "      <td>124.9500</td>\n",
       "      <td>124.950</td>\n",
       "      <td>124.9500</td>\n",
       "      <td>124.95</td>\n",
       "    </tr>\n",
       "    <tr>\n",
       "      <th>Twd.28</th>\n",
       "      <td>4.0</td>\n",
       "      <td>132.475</td>\n",
       "      <td>8.631387</td>\n",
       "      <td>125.00</td>\n",
       "      <td>125.0000</td>\n",
       "      <td>132.475</td>\n",
       "      <td>139.9500</td>\n",
       "      <td>139.95</td>\n",
       "    </tr>\n",
       "    <tr>\n",
       "      <th>Homestead</th>\n",
       "      <td>1.0</td>\n",
       "      <td>134.950</td>\n",
       "      <td>NaN</td>\n",
       "      <td>134.95</td>\n",
       "      <td>134.9500</td>\n",
       "      <td>134.950</td>\n",
       "      <td>134.9500</td>\n",
       "      <td>134.95</td>\n",
       "    </tr>\n",
       "    <tr>\n",
       "      <th>Big Bag O Buds</th>\n",
       "      <td>1.0</td>\n",
       "      <td>143.950</td>\n",
       "      <td>NaN</td>\n",
       "      <td>143.95</td>\n",
       "      <td>143.9500</td>\n",
       "      <td>143.950</td>\n",
       "      <td>143.9500</td>\n",
       "      <td>143.95</td>\n",
       "    </tr>\n",
       "    <tr>\n",
       "      <th>Broken Coast</th>\n",
       "      <td>4.0</td>\n",
       "      <td>148.975</td>\n",
       "      <td>116.595887</td>\n",
       "      <td>48.00</td>\n",
       "      <td>48.0000</td>\n",
       "      <td>148.975</td>\n",
       "      <td>249.9500</td>\n",
       "      <td>249.95</td>\n",
       "    </tr>\n",
       "  </tbody>\n",
       "</table>\n",
       "<p>115 rows × 8 columns</p>\n",
       "</div>"
      ],
      "text/plain": [
       "                       count     mean         std     min       25%      50%  \\\n",
       "brand                                                                          \n",
       "Bonify                   2.0   14.950    0.000000   14.95   14.9500   14.950   \n",
       "Northern Harvest         2.0   16.200   12.303658    7.50   11.8500   16.200   \n",
       "Kiwi Cannabis            4.0   16.200   10.045895    7.50    7.5000   16.200   \n",
       "Aurora                   2.0   18.975   14.106780    9.00   13.9875   18.975   \n",
       "Northern Green Canada    1.0   19.750         NaN   19.75   19.7500   19.750   \n",
       "...                      ...      ...         ...     ...       ...      ...   \n",
       "Legend                   1.0  124.950         NaN  124.95  124.9500  124.950   \n",
       "Twd.28                   4.0  132.475    8.631387  125.00  125.0000  132.475   \n",
       "Homestead                1.0  134.950         NaN  134.95  134.9500  134.950   \n",
       "Big Bag O Buds           1.0  143.950         NaN  143.95  143.9500  143.950   \n",
       "Broken Coast             4.0  148.975  116.595887   48.00   48.0000  148.975   \n",
       "\n",
       "                            75%     max  \n",
       "brand                                    \n",
       "Bonify                  14.9500   14.95  \n",
       "Northern Harvest        20.5500   24.90  \n",
       "Kiwi Cannabis           24.9000   24.90  \n",
       "Aurora                  23.9625   28.95  \n",
       "Northern Green Canada   19.7500   19.75  \n",
       "...                         ...     ...  \n",
       "Legend                 124.9500  124.95  \n",
       "Twd.28                 139.9500  139.95  \n",
       "Homestead              134.9500  134.95  \n",
       "Big Bag O Buds         143.9500  143.95  \n",
       "Broken Coast           249.9500  249.95  \n",
       "\n",
       "[115 rows x 8 columns]"
      ]
     },
     "execution_count": 38,
     "metadata": {},
     "output_type": "execute_result"
    }
   ],
   "source": [
    "# Brands sorted by average price\n",
    "df.groupby(['brand'])['price'].describe().sort_values('mean')"
   ]
  },
  {
   "cell_type": "code",
   "execution_count": 29,
   "id": "7e546304-3802-4c76-bf6f-30dcc1b3a861",
   "metadata": {},
   "outputs": [
    {
     "data": {
      "text/html": [
       "<div>\n",
       "<style scoped>\n",
       "    .dataframe tbody tr th:only-of-type {\n",
       "        vertical-align: middle;\n",
       "    }\n",
       "\n",
       "    .dataframe tbody tr th {\n",
       "        vertical-align: top;\n",
       "    }\n",
       "\n",
       "    .dataframe thead th {\n",
       "        text-align: right;\n",
       "    }\n",
       "</style>\n",
       "<table border=\"1\" class=\"dataframe\">\n",
       "  <thead>\n",
       "    <tr style=\"text-align: right;\">\n",
       "      <th></th>\n",
       "      <th>count</th>\n",
       "      <th>mean</th>\n",
       "      <th>std</th>\n",
       "      <th>min</th>\n",
       "      <th>25%</th>\n",
       "      <th>50%</th>\n",
       "      <th>75%</th>\n",
       "      <th>max</th>\n",
       "    </tr>\n",
       "    <tr>\n",
       "      <th>brand</th>\n",
       "      <th></th>\n",
       "      <th></th>\n",
       "      <th></th>\n",
       "      <th></th>\n",
       "      <th></th>\n",
       "      <th></th>\n",
       "      <th></th>\n",
       "      <th></th>\n",
       "    </tr>\n",
       "  </thead>\n",
       "  <tbody>\n",
       "    <tr>\n",
       "      <th>Five Founders</th>\n",
       "      <td>1.0</td>\n",
       "      <td>3.570000</td>\n",
       "      <td>NaN</td>\n",
       "      <td>3.57</td>\n",
       "      <td>3.5700</td>\n",
       "      <td>3.570</td>\n",
       "      <td>3.5700</td>\n",
       "      <td>3.57</td>\n",
       "    </tr>\n",
       "    <tr>\n",
       "      <th>Bake Sale</th>\n",
       "      <td>4.0</td>\n",
       "      <td>3.925000</td>\n",
       "      <td>4.099187e-01</td>\n",
       "      <td>3.57</td>\n",
       "      <td>3.5700</td>\n",
       "      <td>3.925</td>\n",
       "      <td>4.2800</td>\n",
       "      <td>4.28</td>\n",
       "    </tr>\n",
       "    <tr>\n",
       "      <th>Simple Stash</th>\n",
       "      <td>6.0</td>\n",
       "      <td>3.986667</td>\n",
       "      <td>3.668606e-01</td>\n",
       "      <td>3.57</td>\n",
       "      <td>3.6775</td>\n",
       "      <td>4.000</td>\n",
       "      <td>4.2925</td>\n",
       "      <td>4.39</td>\n",
       "    </tr>\n",
       "    <tr>\n",
       "      <th>SHRED</th>\n",
       "      <td>3.0</td>\n",
       "      <td>4.070000</td>\n",
       "      <td>0.000000e+00</td>\n",
       "      <td>4.07</td>\n",
       "      <td>4.0700</td>\n",
       "      <td>4.070</td>\n",
       "      <td>4.0700</td>\n",
       "      <td>4.07</td>\n",
       "    </tr>\n",
       "    <tr>\n",
       "      <th>BINGO</th>\n",
       "      <td>6.0</td>\n",
       "      <td>4.166667</td>\n",
       "      <td>4.473328e-01</td>\n",
       "      <td>3.66</td>\n",
       "      <td>3.7900</td>\n",
       "      <td>4.180</td>\n",
       "      <td>4.5400</td>\n",
       "      <td>4.66</td>\n",
       "    </tr>\n",
       "    <tr>\n",
       "      <th>...</th>\n",
       "      <td>...</td>\n",
       "      <td>...</td>\n",
       "      <td>...</td>\n",
       "      <td>...</td>\n",
       "      <td>...</td>\n",
       "      <td>...</td>\n",
       "      <td>...</td>\n",
       "      <td>...</td>\n",
       "    </tr>\n",
       "    <tr>\n",
       "      <th>BOAZ</th>\n",
       "      <td>1.0</td>\n",
       "      <td>11.410000</td>\n",
       "      <td>NaN</td>\n",
       "      <td>11.41</td>\n",
       "      <td>11.4100</td>\n",
       "      <td>11.410</td>\n",
       "      <td>11.4100</td>\n",
       "      <td>11.41</td>\n",
       "    </tr>\n",
       "    <tr>\n",
       "      <th>Sugarbud</th>\n",
       "      <td>3.0</td>\n",
       "      <td>11.410000</td>\n",
       "      <td>2.175584e-15</td>\n",
       "      <td>11.41</td>\n",
       "      <td>11.4100</td>\n",
       "      <td>11.410</td>\n",
       "      <td>11.4100</td>\n",
       "      <td>11.41</td>\n",
       "    </tr>\n",
       "    <tr>\n",
       "      <th>Weed Me</th>\n",
       "      <td>3.0</td>\n",
       "      <td>11.410000</td>\n",
       "      <td>2.175584e-15</td>\n",
       "      <td>11.41</td>\n",
       "      <td>11.4100</td>\n",
       "      <td>11.410</td>\n",
       "      <td>11.4100</td>\n",
       "      <td>11.41</td>\n",
       "    </tr>\n",
       "    <tr>\n",
       "      <th>Weed Me Limited Batch</th>\n",
       "      <td>1.0</td>\n",
       "      <td>11.990000</td>\n",
       "      <td>NaN</td>\n",
       "      <td>11.99</td>\n",
       "      <td>11.9900</td>\n",
       "      <td>11.990</td>\n",
       "      <td>11.9900</td>\n",
       "      <td>11.99</td>\n",
       "    </tr>\n",
       "    <tr>\n",
       "      <th>BC Green</th>\n",
       "      <td>1.0</td>\n",
       "      <td>11.990000</td>\n",
       "      <td>NaN</td>\n",
       "      <td>11.99</td>\n",
       "      <td>11.9900</td>\n",
       "      <td>11.990</td>\n",
       "      <td>11.9900</td>\n",
       "      <td>11.99</td>\n",
       "    </tr>\n",
       "  </tbody>\n",
       "</table>\n",
       "<p>115 rows × 8 columns</p>\n",
       "</div>"
      ],
      "text/plain": [
       "                       count       mean           std    min      25%     50%  \\\n",
       "brand                                                                           \n",
       "Five Founders            1.0   3.570000           NaN   3.57   3.5700   3.570   \n",
       "Bake Sale                4.0   3.925000  4.099187e-01   3.57   3.5700   3.925   \n",
       "Simple Stash             6.0   3.986667  3.668606e-01   3.57   3.6775   4.000   \n",
       "SHRED                    3.0   4.070000  0.000000e+00   4.07   4.0700   4.070   \n",
       "BINGO                    6.0   4.166667  4.473328e-01   3.66   3.7900   4.180   \n",
       "...                      ...        ...           ...    ...      ...     ...   \n",
       "BOAZ                     1.0  11.410000           NaN  11.41  11.4100  11.410   \n",
       "Sugarbud                 3.0  11.410000  2.175584e-15  11.41  11.4100  11.410   \n",
       "Weed Me                  3.0  11.410000  2.175584e-15  11.41  11.4100  11.410   \n",
       "Weed Me Limited Batch    1.0  11.990000           NaN  11.99  11.9900  11.990   \n",
       "BC Green                 1.0  11.990000           NaN  11.99  11.9900  11.990   \n",
       "\n",
       "                           75%    max  \n",
       "brand                                  \n",
       "Five Founders           3.5700   3.57  \n",
       "Bake Sale               4.2800   4.28  \n",
       "Simple Stash            4.2925   4.39  \n",
       "SHRED                   4.0700   4.07  \n",
       "BINGO                   4.5400   4.66  \n",
       "...                        ...    ...  \n",
       "BOAZ                   11.4100  11.41  \n",
       "Sugarbud               11.4100  11.41  \n",
       "Weed Me                11.4100  11.41  \n",
       "Weed Me Limited Batch  11.9900  11.99  \n",
       "BC Green               11.9900  11.99  \n",
       "\n",
       "[115 rows x 8 columns]"
      ]
     },
     "execution_count": 29,
     "metadata": {},
     "output_type": "execute_result"
    }
   ],
   "source": [
    "# Brands sorted by average price per gram\n",
    "df.groupby(['brand'])['price_per_gram'].describe().sort_values('mean')"
   ]
  },
  {
   "cell_type": "code",
   "execution_count": 30,
   "id": "b371e109-041d-4347-b840-e5e31522337c",
   "metadata": {},
   "outputs": [
    {
     "data": {
      "text/html": [
       "<div>\n",
       "<style scoped>\n",
       "    .dataframe tbody tr th:only-of-type {\n",
       "        vertical-align: middle;\n",
       "    }\n",
       "\n",
       "    .dataframe tbody tr th {\n",
       "        vertical-align: top;\n",
       "    }\n",
       "\n",
       "    .dataframe thead th {\n",
       "        text-align: right;\n",
       "    }\n",
       "</style>\n",
       "<table border=\"1\" class=\"dataframe\">\n",
       "  <thead>\n",
       "    <tr style=\"text-align: right;\">\n",
       "      <th></th>\n",
       "      <th>count</th>\n",
       "      <th>mean</th>\n",
       "      <th>std</th>\n",
       "      <th>min</th>\n",
       "      <th>25%</th>\n",
       "      <th>50%</th>\n",
       "      <th>75%</th>\n",
       "      <th>max</th>\n",
       "    </tr>\n",
       "    <tr>\n",
       "      <th>brand</th>\n",
       "      <th></th>\n",
       "      <th></th>\n",
       "      <th></th>\n",
       "      <th></th>\n",
       "      <th></th>\n",
       "      <th></th>\n",
       "      <th></th>\n",
       "      <th></th>\n",
       "    </tr>\n",
       "  </thead>\n",
       "  <tbody>\n",
       "    <tr>\n",
       "      <th>GreenSeal</th>\n",
       "      <td>1.0</td>\n",
       "      <td>28.0</td>\n",
       "      <td>NaN</td>\n",
       "      <td>28.0</td>\n",
       "      <td>28.0</td>\n",
       "      <td>28.0</td>\n",
       "      <td>28.00</td>\n",
       "      <td>28.0</td>\n",
       "    </tr>\n",
       "    <tr>\n",
       "      <th>The Loud Plug</th>\n",
       "      <td>1.0</td>\n",
       "      <td>28.0</td>\n",
       "      <td>NaN</td>\n",
       "      <td>28.0</td>\n",
       "      <td>28.0</td>\n",
       "      <td>28.0</td>\n",
       "      <td>28.00</td>\n",
       "      <td>28.0</td>\n",
       "    </tr>\n",
       "    <tr>\n",
       "      <th>SuperFlower</th>\n",
       "      <td>1.0</td>\n",
       "      <td>28.0</td>\n",
       "      <td>NaN</td>\n",
       "      <td>28.0</td>\n",
       "      <td>28.0</td>\n",
       "      <td>28.0</td>\n",
       "      <td>28.00</td>\n",
       "      <td>28.0</td>\n",
       "    </tr>\n",
       "    <tr>\n",
       "      <th>Flint &amp; Embers</th>\n",
       "      <td>1.0</td>\n",
       "      <td>28.0</td>\n",
       "      <td>NaN</td>\n",
       "      <td>28.0</td>\n",
       "      <td>28.0</td>\n",
       "      <td>28.0</td>\n",
       "      <td>28.00</td>\n",
       "      <td>28.0</td>\n",
       "    </tr>\n",
       "    <tr>\n",
       "      <th>Kolab Project</th>\n",
       "      <td>2.0</td>\n",
       "      <td>28.0</td>\n",
       "      <td>0.000000</td>\n",
       "      <td>28.0</td>\n",
       "      <td>28.0</td>\n",
       "      <td>28.0</td>\n",
       "      <td>28.00</td>\n",
       "      <td>28.0</td>\n",
       "    </tr>\n",
       "    <tr>\n",
       "      <th>...</th>\n",
       "      <td>...</td>\n",
       "      <td>...</td>\n",
       "      <td>...</td>\n",
       "      <td>...</td>\n",
       "      <td>...</td>\n",
       "      <td>...</td>\n",
       "      <td>...</td>\n",
       "      <td>...</td>\n",
       "    </tr>\n",
       "    <tr>\n",
       "      <th>BINGO</th>\n",
       "      <td>6.0</td>\n",
       "      <td>18.0</td>\n",
       "      <td>1.549193</td>\n",
       "      <td>17.0</td>\n",
       "      <td>17.0</td>\n",
       "      <td>17.0</td>\n",
       "      <td>19.25</td>\n",
       "      <td>20.0</td>\n",
       "    </tr>\n",
       "    <tr>\n",
       "      <th>ELIOS RESERVE</th>\n",
       "      <td>1.0</td>\n",
       "      <td>17.0</td>\n",
       "      <td>NaN</td>\n",
       "      <td>17.0</td>\n",
       "      <td>17.0</td>\n",
       "      <td>17.0</td>\n",
       "      <td>17.00</td>\n",
       "      <td>17.0</td>\n",
       "    </tr>\n",
       "    <tr>\n",
       "      <th>Bake Sale</th>\n",
       "      <td>4.0</td>\n",
       "      <td>17.0</td>\n",
       "      <td>0.000000</td>\n",
       "      <td>17.0</td>\n",
       "      <td>17.0</td>\n",
       "      <td>17.0</td>\n",
       "      <td>17.00</td>\n",
       "      <td>17.0</td>\n",
       "    </tr>\n",
       "    <tr>\n",
       "      <th>Solei</th>\n",
       "      <td>14.0</td>\n",
       "      <td>15.5</td>\n",
       "      <td>9.254936</td>\n",
       "      <td>1.0</td>\n",
       "      <td>11.0</td>\n",
       "      <td>21.0</td>\n",
       "      <td>23.00</td>\n",
       "      <td>25.0</td>\n",
       "    </tr>\n",
       "    <tr>\n",
       "      <th>Kiwi Cannabis</th>\n",
       "      <td>4.0</td>\n",
       "      <td>9.5</td>\n",
       "      <td>0.577350</td>\n",
       "      <td>9.0</td>\n",
       "      <td>9.0</td>\n",
       "      <td>9.5</td>\n",
       "      <td>10.00</td>\n",
       "      <td>10.0</td>\n",
       "    </tr>\n",
       "  </tbody>\n",
       "</table>\n",
       "<p>115 rows × 8 columns</p>\n",
       "</div>"
      ],
      "text/plain": [
       "                count  mean       std   min   25%   50%    75%   max\n",
       "brand                                                               \n",
       "GreenSeal         1.0  28.0       NaN  28.0  28.0  28.0  28.00  28.0\n",
       "The Loud Plug     1.0  28.0       NaN  28.0  28.0  28.0  28.00  28.0\n",
       "SuperFlower       1.0  28.0       NaN  28.0  28.0  28.0  28.00  28.0\n",
       "Flint & Embers    1.0  28.0       NaN  28.0  28.0  28.0  28.00  28.0\n",
       "Kolab Project     2.0  28.0  0.000000  28.0  28.0  28.0  28.00  28.0\n",
       "...               ...   ...       ...   ...   ...   ...    ...   ...\n",
       "BINGO             6.0  18.0  1.549193  17.0  17.0  17.0  19.25  20.0\n",
       "ELIOS RESERVE     1.0  17.0       NaN  17.0  17.0  17.0  17.00  17.0\n",
       "Bake Sale         4.0  17.0  0.000000  17.0  17.0  17.0  17.00  17.0\n",
       "Solei            14.0  15.5  9.254936   1.0  11.0  21.0  23.00  25.0\n",
       "Kiwi Cannabis     4.0   9.5  0.577350   9.0   9.0   9.5  10.00  10.0\n",
       "\n",
       "[115 rows x 8 columns]"
      ]
     },
     "execution_count": 30,
     "metadata": {},
     "output_type": "execute_result"
    }
   ],
   "source": [
    "df.groupby(['brand'])['thc_max'].describe().sort_values('mean', ascending = False)"
   ]
  },
  {
   "cell_type": "code",
   "execution_count": 31,
   "id": "86a601bd-b197-473b-a591-a347fcee1815",
   "metadata": {},
   "outputs": [
    {
     "data": {
      "text/html": [
       "<div>\n",
       "<style scoped>\n",
       "    .dataframe tbody tr th:only-of-type {\n",
       "        vertical-align: middle;\n",
       "    }\n",
       "\n",
       "    .dataframe tbody tr th {\n",
       "        vertical-align: top;\n",
       "    }\n",
       "\n",
       "    .dataframe thead th {\n",
       "        text-align: right;\n",
       "    }\n",
       "</style>\n",
       "<table border=\"1\" class=\"dataframe\">\n",
       "  <thead>\n",
       "    <tr style=\"text-align: right;\">\n",
       "      <th></th>\n",
       "      <th>count</th>\n",
       "      <th>mean</th>\n",
       "      <th>std</th>\n",
       "      <th>min</th>\n",
       "      <th>25%</th>\n",
       "      <th>50%</th>\n",
       "      <th>75%</th>\n",
       "      <th>max</th>\n",
       "    </tr>\n",
       "    <tr>\n",
       "      <th>brand</th>\n",
       "      <th></th>\n",
       "      <th></th>\n",
       "      <th></th>\n",
       "      <th></th>\n",
       "      <th></th>\n",
       "      <th></th>\n",
       "      <th></th>\n",
       "      <th></th>\n",
       "    </tr>\n",
       "  </thead>\n",
       "  <tbody>\n",
       "    <tr>\n",
       "      <th>Kiwi Cannabis</th>\n",
       "      <td>4.0</td>\n",
       "      <td>12.500000</td>\n",
       "      <td>0.577350</td>\n",
       "      <td>12.00</td>\n",
       "      <td>12.00</td>\n",
       "      <td>12.50</td>\n",
       "      <td>13.00</td>\n",
       "      <td>13.00</td>\n",
       "    </tr>\n",
       "    <tr>\n",
       "      <th>Liiv</th>\n",
       "      <td>1.0</td>\n",
       "      <td>10.000000</td>\n",
       "      <td>NaN</td>\n",
       "      <td>10.00</td>\n",
       "      <td>10.00</td>\n",
       "      <td>10.00</td>\n",
       "      <td>10.00</td>\n",
       "      <td>10.00</td>\n",
       "    </tr>\n",
       "    <tr>\n",
       "      <th>Solei</th>\n",
       "      <td>14.0</td>\n",
       "      <td>7.678571</td>\n",
       "      <td>7.727591</td>\n",
       "      <td>1.00</td>\n",
       "      <td>1.00</td>\n",
       "      <td>2.00</td>\n",
       "      <td>15.50</td>\n",
       "      <td>17.00</td>\n",
       "    </tr>\n",
       "    <tr>\n",
       "      <th>Sugarbud</th>\n",
       "      <td>3.0</td>\n",
       "      <td>5.000000</td>\n",
       "      <td>0.000000</td>\n",
       "      <td>5.00</td>\n",
       "      <td>5.00</td>\n",
       "      <td>5.00</td>\n",
       "      <td>5.00</td>\n",
       "      <td>5.00</td>\n",
       "    </tr>\n",
       "    <tr>\n",
       "      <th>Northern Harvest</th>\n",
       "      <td>2.0</td>\n",
       "      <td>4.000000</td>\n",
       "      <td>0.000000</td>\n",
       "      <td>4.00</td>\n",
       "      <td>4.00</td>\n",
       "      <td>4.00</td>\n",
       "      <td>4.00</td>\n",
       "      <td>4.00</td>\n",
       "    </tr>\n",
       "    <tr>\n",
       "      <th>...</th>\n",
       "      <td>...</td>\n",
       "      <td>...</td>\n",
       "      <td>...</td>\n",
       "      <td>...</td>\n",
       "      <td>...</td>\n",
       "      <td>...</td>\n",
       "      <td>...</td>\n",
       "      <td>...</td>\n",
       "    </tr>\n",
       "    <tr>\n",
       "      <th>Canaca</th>\n",
       "      <td>3.0</td>\n",
       "      <td>0.400000</td>\n",
       "      <td>0.519615</td>\n",
       "      <td>0.10</td>\n",
       "      <td>0.10</td>\n",
       "      <td>0.10</td>\n",
       "      <td>0.55</td>\n",
       "      <td>1.00</td>\n",
       "    </tr>\n",
       "    <tr>\n",
       "      <th>Bonify</th>\n",
       "      <td>2.0</td>\n",
       "      <td>0.300000</td>\n",
       "      <td>0.000000</td>\n",
       "      <td>0.30</td>\n",
       "      <td>0.30</td>\n",
       "      <td>0.30</td>\n",
       "      <td>0.30</td>\n",
       "      <td>0.30</td>\n",
       "    </tr>\n",
       "    <tr>\n",
       "      <th>Station House</th>\n",
       "      <td>3.0</td>\n",
       "      <td>0.300000</td>\n",
       "      <td>0.173205</td>\n",
       "      <td>0.20</td>\n",
       "      <td>0.20</td>\n",
       "      <td>0.20</td>\n",
       "      <td>0.35</td>\n",
       "      <td>0.50</td>\n",
       "    </tr>\n",
       "    <tr>\n",
       "      <th>Big Bag O Buds</th>\n",
       "      <td>1.0</td>\n",
       "      <td>0.150000</td>\n",
       "      <td>NaN</td>\n",
       "      <td>0.15</td>\n",
       "      <td>0.15</td>\n",
       "      <td>0.15</td>\n",
       "      <td>0.15</td>\n",
       "      <td>0.15</td>\n",
       "    </tr>\n",
       "    <tr>\n",
       "      <th>Indi Cannabis</th>\n",
       "      <td>1.0</td>\n",
       "      <td>0.150000</td>\n",
       "      <td>NaN</td>\n",
       "      <td>0.15</td>\n",
       "      <td>0.15</td>\n",
       "      <td>0.15</td>\n",
       "      <td>0.15</td>\n",
       "      <td>0.15</td>\n",
       "    </tr>\n",
       "  </tbody>\n",
       "</table>\n",
       "<p>115 rows × 8 columns</p>\n",
       "</div>"
      ],
      "text/plain": [
       "                  count       mean       std    min    25%    50%    75%  \\\n",
       "brand                                                                      \n",
       "Kiwi Cannabis       4.0  12.500000  0.577350  12.00  12.00  12.50  13.00   \n",
       "Liiv                1.0  10.000000       NaN  10.00  10.00  10.00  10.00   \n",
       "Solei              14.0   7.678571  7.727591   1.00   1.00   2.00  15.50   \n",
       "Sugarbud            3.0   5.000000  0.000000   5.00   5.00   5.00   5.00   \n",
       "Northern Harvest    2.0   4.000000  0.000000   4.00   4.00   4.00   4.00   \n",
       "...                 ...        ...       ...    ...    ...    ...    ...   \n",
       "Canaca              3.0   0.400000  0.519615   0.10   0.10   0.10   0.55   \n",
       "Bonify              2.0   0.300000  0.000000   0.30   0.30   0.30   0.30   \n",
       "Station House       3.0   0.300000  0.173205   0.20   0.20   0.20   0.35   \n",
       "Big Bag O Buds      1.0   0.150000       NaN   0.15   0.15   0.15   0.15   \n",
       "Indi Cannabis       1.0   0.150000       NaN   0.15   0.15   0.15   0.15   \n",
       "\n",
       "                    max  \n",
       "brand                    \n",
       "Kiwi Cannabis     13.00  \n",
       "Liiv              10.00  \n",
       "Solei             17.00  \n",
       "Sugarbud           5.00  \n",
       "Northern Harvest   4.00  \n",
       "...                 ...  \n",
       "Canaca             1.00  \n",
       "Bonify             0.30  \n",
       "Station House      0.50  \n",
       "Big Bag O Buds     0.15  \n",
       "Indi Cannabis      0.15  \n",
       "\n",
       "[115 rows x 8 columns]"
      ]
     },
     "execution_count": 31,
     "metadata": {},
     "output_type": "execute_result"
    }
   ],
   "source": [
    "df.groupby(['brand'])['cbd_max'].describe().sort_values('mean', ascending = False)"
   ]
  },
  {
   "cell_type": "code",
   "execution_count": 32,
   "id": "1c2f8f44-14b7-4c6a-b141-895d085b6b8e",
   "metadata": {},
   "outputs": [
    {
     "data": {
      "text/html": [
       "<div>\n",
       "<style scoped>\n",
       "    .dataframe tbody tr th:only-of-type {\n",
       "        vertical-align: middle;\n",
       "    }\n",
       "\n",
       "    .dataframe tbody tr th {\n",
       "        vertical-align: top;\n",
       "    }\n",
       "\n",
       "    .dataframe thead th {\n",
       "        text-align: right;\n",
       "    }\n",
       "</style>\n",
       "<table border=\"1\" class=\"dataframe\">\n",
       "  <thead>\n",
       "    <tr style=\"text-align: right;\">\n",
       "      <th></th>\n",
       "      <th>count</th>\n",
       "      <th>mean</th>\n",
       "      <th>std</th>\n",
       "      <th>min</th>\n",
       "      <th>25%</th>\n",
       "      <th>50%</th>\n",
       "      <th>75%</th>\n",
       "      <th>max</th>\n",
       "    </tr>\n",
       "    <tr>\n",
       "      <th>brand</th>\n",
       "      <th></th>\n",
       "      <th></th>\n",
       "      <th></th>\n",
       "      <th></th>\n",
       "      <th></th>\n",
       "      <th></th>\n",
       "      <th></th>\n",
       "      <th></th>\n",
       "    </tr>\n",
       "  </thead>\n",
       "  <tbody>\n",
       "    <tr>\n",
       "      <th>18twelve</th>\n",
       "      <td>2.0</td>\n",
       "      <td>5.0</td>\n",
       "      <td>0.00000</td>\n",
       "      <td>5.0</td>\n",
       "      <td>5.0</td>\n",
       "      <td>5.0</td>\n",
       "      <td>5.0</td>\n",
       "      <td>5.0</td>\n",
       "    </tr>\n",
       "    <tr>\n",
       "      <th>Northern Green Canada</th>\n",
       "      <td>1.0</td>\n",
       "      <td>5.0</td>\n",
       "      <td>NaN</td>\n",
       "      <td>5.0</td>\n",
       "      <td>5.0</td>\n",
       "      <td>5.0</td>\n",
       "      <td>5.0</td>\n",
       "      <td>5.0</td>\n",
       "    </tr>\n",
       "    <tr>\n",
       "      <th>Royal City Cannabis Co.</th>\n",
       "      <td>2.0</td>\n",
       "      <td>5.0</td>\n",
       "      <td>0.00000</td>\n",
       "      <td>5.0</td>\n",
       "      <td>5.0</td>\n",
       "      <td>5.0</td>\n",
       "      <td>5.0</td>\n",
       "      <td>5.0</td>\n",
       "    </tr>\n",
       "    <tr>\n",
       "      <th>Ritual Green</th>\n",
       "      <td>1.0</td>\n",
       "      <td>5.0</td>\n",
       "      <td>NaN</td>\n",
       "      <td>5.0</td>\n",
       "      <td>5.0</td>\n",
       "      <td>5.0</td>\n",
       "      <td>5.0</td>\n",
       "      <td>5.0</td>\n",
       "    </tr>\n",
       "    <tr>\n",
       "      <th>Reef Organic</th>\n",
       "      <td>2.0</td>\n",
       "      <td>5.0</td>\n",
       "      <td>0.00000</td>\n",
       "      <td>5.0</td>\n",
       "      <td>5.0</td>\n",
       "      <td>5.0</td>\n",
       "      <td>5.0</td>\n",
       "      <td>5.0</td>\n",
       "    </tr>\n",
       "    <tr>\n",
       "      <th>...</th>\n",
       "      <td>...</td>\n",
       "      <td>...</td>\n",
       "      <td>...</td>\n",
       "      <td>...</td>\n",
       "      <td>...</td>\n",
       "      <td>...</td>\n",
       "      <td>...</td>\n",
       "      <td>...</td>\n",
       "    </tr>\n",
       "    <tr>\n",
       "      <th>Strain Rec</th>\n",
       "      <td>1.0</td>\n",
       "      <td>4.0</td>\n",
       "      <td>NaN</td>\n",
       "      <td>4.0</td>\n",
       "      <td>4.0</td>\n",
       "      <td>4.0</td>\n",
       "      <td>4.0</td>\n",
       "      <td>4.0</td>\n",
       "    </tr>\n",
       "    <tr>\n",
       "      <th>Simple Stash</th>\n",
       "      <td>6.0</td>\n",
       "      <td>4.0</td>\n",
       "      <td>0.00000</td>\n",
       "      <td>4.0</td>\n",
       "      <td>4.0</td>\n",
       "      <td>4.0</td>\n",
       "      <td>4.0</td>\n",
       "      <td>4.0</td>\n",
       "    </tr>\n",
       "    <tr>\n",
       "      <th>ELIOS RESERVE</th>\n",
       "      <td>1.0</td>\n",
       "      <td>4.0</td>\n",
       "      <td>NaN</td>\n",
       "      <td>4.0</td>\n",
       "      <td>4.0</td>\n",
       "      <td>4.0</td>\n",
       "      <td>4.0</td>\n",
       "      <td>4.0</td>\n",
       "    </tr>\n",
       "    <tr>\n",
       "      <th>Solei</th>\n",
       "      <td>14.0</td>\n",
       "      <td>3.5</td>\n",
       "      <td>1.82925</td>\n",
       "      <td>1.0</td>\n",
       "      <td>2.0</td>\n",
       "      <td>5.0</td>\n",
       "      <td>5.0</td>\n",
       "      <td>5.0</td>\n",
       "    </tr>\n",
       "    <tr>\n",
       "      <th>Kiwi Cannabis</th>\n",
       "      <td>4.0</td>\n",
       "      <td>2.0</td>\n",
       "      <td>0.00000</td>\n",
       "      <td>2.0</td>\n",
       "      <td>2.0</td>\n",
       "      <td>2.0</td>\n",
       "      <td>2.0</td>\n",
       "      <td>2.0</td>\n",
       "    </tr>\n",
       "  </tbody>\n",
       "</table>\n",
       "<p>115 rows × 8 columns</p>\n",
       "</div>"
      ],
      "text/plain": [
       "                         count  mean      std  min  25%  50%  75%  max\n",
       "brand                                                                 \n",
       "18twelve                   2.0   5.0  0.00000  5.0  5.0  5.0  5.0  5.0\n",
       "Northern Green Canada      1.0   5.0      NaN  5.0  5.0  5.0  5.0  5.0\n",
       "Royal City Cannabis Co.    2.0   5.0  0.00000  5.0  5.0  5.0  5.0  5.0\n",
       "Ritual Green               1.0   5.0      NaN  5.0  5.0  5.0  5.0  5.0\n",
       "Reef Organic               2.0   5.0  0.00000  5.0  5.0  5.0  5.0  5.0\n",
       "...                        ...   ...      ...  ...  ...  ...  ...  ...\n",
       "Strain Rec                 1.0   4.0      NaN  4.0  4.0  4.0  4.0  4.0\n",
       "Simple Stash               6.0   4.0  0.00000  4.0  4.0  4.0  4.0  4.0\n",
       "ELIOS RESERVE              1.0   4.0      NaN  4.0  4.0  4.0  4.0  4.0\n",
       "Solei                     14.0   3.5  1.82925  1.0  2.0  5.0  5.0  5.0\n",
       "Kiwi Cannabis              4.0   2.0  0.00000  2.0  2.0  2.0  2.0  2.0\n",
       "\n",
       "[115 rows x 8 columns]"
      ]
     },
     "execution_count": 32,
     "metadata": {},
     "output_type": "execute_result"
    }
   ],
   "source": [
    "df.groupby(['brand'])['potency'].describe().sort_values('mean', ascending = False)"
   ]
  },
  {
   "cell_type": "code",
   "execution_count": 48,
   "id": "423002d9-d831-4674-ac6b-78f44580db2a",
   "metadata": {},
   "outputs": [
    {
     "data": {
      "text/plain": [
       "0.07990848596223922"
      ]
     },
     "execution_count": 48,
     "metadata": {},
     "output_type": "execute_result"
    }
   ],
   "source": [
    "# Correlation between potency and price\n",
    "np.corrcoef(df['potency'], df['price'])[0][1]"
   ]
  },
  {
   "cell_type": "code",
   "execution_count": 50,
   "id": "5072e4c0",
   "metadata": {},
   "outputs": [
    {
     "data": {
      "text/plain": [
       "0.9202458381431596"
      ]
     },
     "execution_count": 50,
     "metadata": {},
     "output_type": "execute_result"
    }
   ],
   "source": [
    "# Correlation between gram and price\n",
    "np.corrcoef(df['grams'], df['price'])[0][1]"
   ]
  },
  {
   "cell_type": "code",
   "execution_count": 51,
   "id": "96be0045",
   "metadata": {},
   "outputs": [
    {
     "data": {
      "text/plain": [
       "Index(['name', 'type', 'producer', 'brand', 'potency', 'thc_min', 'thc_max',\n",
       "       'cbd_min', 'cbd_max', 'price', 'price_per_gram', 'grams'],\n",
       "      dtype='object')"
      ]
     },
     "execution_count": 51,
     "metadata": {},
     "output_type": "execute_result"
    }
   ],
   "source": [
    "df.columns"
   ]
  },
  {
   "cell_type": "code",
   "execution_count": 55,
   "id": "71885c64",
   "metadata": {},
   "outputs": [
    {
     "data": {
      "text/plain": [
       "0.3562074816960524"
      ]
     },
     "execution_count": 55,
     "metadata": {},
     "output_type": "execute_result"
    }
   ],
   "source": [
    "# Correlation between maximum amount of THC and price\n",
    "np.corrcoef(df['thc_max'], df['price_per_gram'])[0][1]"
   ]
  },
  {
   "cell_type": "code",
   "execution_count": 59,
   "id": "e8910d07",
   "metadata": {},
   "outputs": [
    {
     "data": {
      "text/plain": [
       "0.005601696422973422"
      ]
     },
     "execution_count": 59,
     "metadata": {},
     "output_type": "execute_result"
    }
   ],
   "source": [
    "# Correlation between maximum amount of CBD and price\n",
    "np.corrcoef(df['cbd_max'], df['price_per_gram'])[0][1]"
   ]
  },
  {
   "cell_type": "code",
   "execution_count": null,
   "id": "6004c5f6",
   "metadata": {},
   "outputs": [],
   "source": [
    "# Correlation between maximum amount of THC and price\n",
    "\n"
   ]
  }
 ],
 "metadata": {
  "kernelspec": {
   "display_name": "Python 3",
   "language": "python",
   "name": "python3"
  },
  "language_info": {
   "codemirror_mode": {
    "name": "ipython",
    "version": 3
   },
   "file_extension": ".py",
   "mimetype": "text/x-python",
   "name": "python",
   "nbconvert_exporter": "python",
   "pygments_lexer": "ipython3",
   "version": "3.7.7"
  }
 },
 "nbformat": 4,
 "nbformat_minor": 5
}
