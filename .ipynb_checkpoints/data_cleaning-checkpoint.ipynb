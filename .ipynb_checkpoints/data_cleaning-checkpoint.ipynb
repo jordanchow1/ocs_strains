{
 "cells": [
  {
   "cell_type": "code",
   "execution_count": 17,
   "id": "23d2a5a2",
   "metadata": {},
   "outputs": [],
   "source": [
    "import pandas as pd\n",
    "import re"
   ]
  },
  {
   "cell_type": "code",
   "execution_count": 18,
   "id": "1c206e77",
   "metadata": {},
   "outputs": [],
   "source": [
    "df = pd.read_csv('ocs.csv')"
   ]
  },
  {
   "cell_type": "code",
   "execution_count": 19,
   "id": "b8e937ea",
   "metadata": {},
   "outputs": [
    {
     "data": {
      "text/plain": [
       "name              object\n",
       "price             object\n",
       "price_per_gram    object\n",
       "grams             object\n",
       "type              object\n",
       "producer          object\n",
       "brand             object\n",
       "potency           object\n",
       "thc               object\n",
       "cbd               object\n",
       "dtype: object"
      ]
     },
     "execution_count": 19,
     "metadata": {},
     "output_type": "execute_result"
    }
   ],
   "source": [
    "df.dtypes"
   ]
  },
  {
   "cell_type": "code",
   "execution_count": 20,
   "id": "70669308",
   "metadata": {},
   "outputs": [],
   "source": [
    "old_shape = df.shape"
   ]
  },
  {
   "cell_type": "code",
   "execution_count": 21,
   "id": "98f9647d",
   "metadata": {},
   "outputs": [],
   "source": [
    "df.drop_duplicates(inplace=True)\n",
    "new_shape = df.shape"
   ]
  },
  {
   "cell_type": "code",
   "execution_count": 22,
   "id": "601e0202",
   "metadata": {},
   "outputs": [
    {
     "data": {
      "text/plain": [
       "51"
      ]
     },
     "execution_count": 22,
     "metadata": {},
     "output_type": "execute_result"
    }
   ],
   "source": [
    "old_shape[0] - new_shape[0] #number of duplicates"
   ]
  },
  {
   "cell_type": "code",
   "execution_count": 23,
   "id": "d60f853e",
   "metadata": {},
   "outputs": [],
   "source": [
    "# Remove '$' from price_per_gram column\n",
    "df['price_per_gram'] = df['price_per_gram'].map(lambda x: x.replace('$',''))"
   ]
  },
  {
   "cell_type": "code",
   "execution_count": 24,
   "id": "1847cb05",
   "metadata": {},
   "outputs": [],
   "source": [
    "df['thc'] = df['thc'].apply(lambda x: x.replace('%',''))\n",
    "df['cbd'] = df['cbd'].apply(lambda x: x.replace('%',''))"
   ]
  },
  {
   "cell_type": "code",
   "execution_count": 25,
   "id": "49d84314",
   "metadata": {},
   "outputs": [],
   "source": [
    "# df.apply(lambda x: x.str.split(', ')).explode(['price', 'price_per_gram', 'grams'])\n",
    "# .reset_index().reindex(df.columns, axis=1)\n",
    "df.price = df.price.astype('string').apply(lambda x: x.split(', '))\n",
    "# df.price_per_gram = df.price_per_gram.astype('string').apply(lambda x: x.replace(' $', ''))\n",
    "df.price_per_gram = df.price_per_gram.apply(lambda x: re.sub(' $', '', x))\n",
    "df.price_per_gram = df.price_per_gram.apply(lambda x: re.sub(' ,', ',', x))\n",
    "df.price_per_gram = df.price_per_gram.astype('string').apply(lambda x: x.split(', '))\n",
    "df.grams = df.grams.astype('string').apply(lambda x: x.split(', '))"
   ]
  },
  {
   "cell_type": "code",
   "execution_count": 26,
   "id": "cdfeb85a",
   "metadata": {},
   "outputs": [],
   "source": [
    "#split thc and cbd range\n",
    "df['thc_min'] = df['thc'].apply(lambda x: x.split(' - ')[0]).astype('float')\n",
    "df['thc_max'] = df['thc'].apply(lambda x: x.split(' - ')[1]).astype('float')\n",
    "df['cbd_min'] = df['cbd'].apply(lambda x: x.split(' - ')[0]).astype('float')\n",
    "df['cbd_max'] = df['cbd'].apply(lambda x: x.split(' - ')[-1].replace('  ', '')).astype('float')\n",
    "df = df.drop(columns = ['thc', 'cbd'])"
   ]
  },
  {
   "cell_type": "markdown",
   "id": "357e125a",
   "metadata": {},
   "source": [
    "Find rows with unequal number of elements"
   ]
  },
  {
   "cell_type": "code",
   "execution_count": 28,
   "id": "522bb13d",
   "metadata": {},
   "outputs": [
    {
     "data": {
      "text/plain": [
       "[71]"
      ]
     },
     "execution_count": 28,
     "metadata": {},
     "output_type": "execute_result"
    }
   ],
   "source": [
    "df = df.sort_index()\n",
    "index = -1\n",
    "false_indices = []\n",
    "for i, j in zip(df['price'], df['price_per_gram']):\n",
    "    index += 1\n",
    "    if len(i) != len(j):\n",
    "        false_indices.append(index)\n",
    "false_indices"
   ]
  },
  {
   "cell_type": "code",
   "execution_count": 29,
   "id": "e812c20a",
   "metadata": {},
   "outputs": [],
   "source": [
    "[df.iloc[71, 1][0]] + df.iloc[71, 2]\n",
    "df.at[71, 'price_per_gram'] = [df.iloc[71, 1][0]] + df.iloc[71, 2]"
   ]
  },
  {
   "cell_type": "code",
   "execution_count": 34,
   "id": "2db6ec99",
   "metadata": {},
   "outputs": [
    {
     "ename": "KeyError",
     "evalue": "\"None of ['name', 'type', 'producer', 'brand', 'potency', 'thc_min', 'thc_max', 'cbd_min', 'cbd_max'] are in the columns\"",
     "output_type": "error",
     "traceback": [
      "\u001b[0;31m---------------------------------------------------------------------------\u001b[0m",
      "\u001b[0;31mKeyError\u001b[0m                                  Traceback (most recent call last)",
      "\u001b[0;32m<ipython-input-34-08b2ee423e0c>\u001b[0m in \u001b[0;36m<module>\u001b[0;34m\u001b[0m\n\u001b[1;32m      1\u001b[0m \u001b[0;31m# Set columns to be untouched as indices\u001b[0m\u001b[0;34m\u001b[0m\u001b[0;34m\u001b[0m\u001b[0;34m\u001b[0m\u001b[0m\n\u001b[0;32m----> 2\u001b[0;31m \u001b[0mdf\u001b[0m \u001b[0;34m=\u001b[0m \u001b[0mdf\u001b[0m\u001b[0;34m.\u001b[0m\u001b[0mset_index\u001b[0m\u001b[0;34m(\u001b[0m\u001b[0;34m[\u001b[0m\u001b[0;34m'name'\u001b[0m\u001b[0;34m,\u001b[0m \u001b[0;34m'type'\u001b[0m\u001b[0;34m,\u001b[0m \u001b[0;34m'producer'\u001b[0m\u001b[0;34m,\u001b[0m \u001b[0;34m'brand'\u001b[0m\u001b[0;34m,\u001b[0m \u001b[0;34m'potency'\u001b[0m\u001b[0;34m,\u001b[0m \u001b[0;34m'thc_min'\u001b[0m\u001b[0;34m,\u001b[0m \u001b[0;34m'thc_max'\u001b[0m\u001b[0;34m,\u001b[0m \u001b[0;34m'cbd_min'\u001b[0m\u001b[0;34m,\u001b[0m \u001b[0;34m'cbd_max'\u001b[0m\u001b[0;34m]\u001b[0m\u001b[0;34m)\u001b[0m\u001b[0;34m\u001b[0m\u001b[0;34m\u001b[0m\u001b[0m\n\u001b[0m\u001b[1;32m      3\u001b[0m \u001b[0mdf\u001b[0m \u001b[0;34m=\u001b[0m \u001b[0mdf\u001b[0m\u001b[0;34m[\u001b[0m\u001b[0;34m~\u001b[0m\u001b[0mdf\u001b[0m\u001b[0;34m.\u001b[0m\u001b[0mindex\u001b[0m\u001b[0;34m.\u001b[0m\u001b[0mduplicated\u001b[0m\u001b[0;34m(\u001b[0m\u001b[0mkeep\u001b[0m\u001b[0;34m=\u001b[0m\u001b[0;34m'first'\u001b[0m\u001b[0;34m)\u001b[0m\u001b[0;34m]\u001b[0m\u001b[0;34m\u001b[0m\u001b[0;34m\u001b[0m\u001b[0m\n\u001b[1;32m      4\u001b[0m \u001b[0mdf\u001b[0m\u001b[0;34m.\u001b[0m\u001b[0mindex\u001b[0m\u001b[0;34m.\u001b[0m\u001b[0mis_unique\u001b[0m\u001b[0;34m\u001b[0m\u001b[0;34m\u001b[0m\u001b[0m\n",
      "\u001b[0;32m~/opt/anaconda3/lib/python3.7/site-packages/pandas/util/_decorators.py\u001b[0m in \u001b[0;36mwrapper\u001b[0;34m(*args, **kwargs)\u001b[0m\n\u001b[1;32m    309\u001b[0m                     \u001b[0mstacklevel\u001b[0m\u001b[0;34m=\u001b[0m\u001b[0mstacklevel\u001b[0m\u001b[0;34m,\u001b[0m\u001b[0;34m\u001b[0m\u001b[0;34m\u001b[0m\u001b[0m\n\u001b[1;32m    310\u001b[0m                 )\n\u001b[0;32m--> 311\u001b[0;31m             \u001b[0;32mreturn\u001b[0m \u001b[0mfunc\u001b[0m\u001b[0;34m(\u001b[0m\u001b[0;34m*\u001b[0m\u001b[0margs\u001b[0m\u001b[0;34m,\u001b[0m \u001b[0;34m**\u001b[0m\u001b[0mkwargs\u001b[0m\u001b[0;34m)\u001b[0m\u001b[0;34m\u001b[0m\u001b[0;34m\u001b[0m\u001b[0m\n\u001b[0m\u001b[1;32m    312\u001b[0m \u001b[0;34m\u001b[0m\u001b[0m\n\u001b[1;32m    313\u001b[0m         \u001b[0;32mreturn\u001b[0m \u001b[0mwrapper\u001b[0m\u001b[0;34m\u001b[0m\u001b[0;34m\u001b[0m\u001b[0m\n",
      "\u001b[0;32m~/opt/anaconda3/lib/python3.7/site-packages/pandas/core/frame.py\u001b[0m in \u001b[0;36mset_index\u001b[0;34m(self, keys, drop, append, inplace, verify_integrity)\u001b[0m\n\u001b[1;32m   5444\u001b[0m \u001b[0;34m\u001b[0m\u001b[0m\n\u001b[1;32m   5445\u001b[0m         \u001b[0;32mif\u001b[0m \u001b[0mmissing\u001b[0m\u001b[0;34m:\u001b[0m\u001b[0;34m\u001b[0m\u001b[0;34m\u001b[0m\u001b[0m\n\u001b[0;32m-> 5446\u001b[0;31m             \u001b[0;32mraise\u001b[0m \u001b[0mKeyError\u001b[0m\u001b[0;34m(\u001b[0m\u001b[0;34mf\"None of {missing} are in the columns\"\u001b[0m\u001b[0;34m)\u001b[0m\u001b[0;34m\u001b[0m\u001b[0;34m\u001b[0m\u001b[0m\n\u001b[0m\u001b[1;32m   5447\u001b[0m \u001b[0;34m\u001b[0m\u001b[0m\n\u001b[1;32m   5448\u001b[0m         \u001b[0;32mif\u001b[0m \u001b[0minplace\u001b[0m\u001b[0;34m:\u001b[0m\u001b[0;34m\u001b[0m\u001b[0;34m\u001b[0m\u001b[0m\n",
      "\u001b[0;31mKeyError\u001b[0m: \"None of ['name', 'type', 'producer', 'brand', 'potency', 'thc_min', 'thc_max', 'cbd_min', 'cbd_max'] are in the columns\""
     ]
    }
   ],
   "source": [
    "# Set columns to be untouched as indices\n",
    "df = df.set_index(['name', 'type', 'producer', 'brand', 'potency', 'thc_min', 'thc_max', 'cbd_min', 'cbd_max'])\n",
    "df = df[~df.index.duplicated(keep='first')]\n",
    "df.index.is_unique"
   ]
  },
  {
   "cell_type": "code",
   "execution_count": 16,
   "id": "8c8b7b4e",
   "metadata": {},
   "outputs": [],
   "source": [
    "# df['price'] = df['price'].astype('string').map(lambda x: x.split(\", \"))\n",
    "# df['price_per_gram'] = df['price_per_gram'].astype('string').map(lambda x: x.split(\", \"))\n",
    "# df['grams'] = df['grams'].astype('string').map(lambda x: x.split(\", \"))"
   ]
  },
  {
   "cell_type": "code",
   "execution_count": 37,
   "id": "5c73d22e",
   "metadata": {},
   "outputs": [],
   "source": [
    "df = df.explode(column = ['price', 'price_per_gram', 'grams'])\n",
    "df = df.reset_index()"
   ]
  },
  {
   "cell_type": "code",
   "execution_count": 45,
   "id": "013ef453-c7b2-4629-a7eb-e799ad5f47dc",
   "metadata": {},
   "outputs": [
    {
     "data": {
      "text/html": [
       "<div>\n",
       "<style scoped>\n",
       "    .dataframe tbody tr th:only-of-type {\n",
       "        vertical-align: middle;\n",
       "    }\n",
       "\n",
       "    .dataframe tbody tr th {\n",
       "        vertical-align: top;\n",
       "    }\n",
       "\n",
       "    .dataframe thead th {\n",
       "        text-align: right;\n",
       "    }\n",
       "</style>\n",
       "<table border=\"1\" class=\"dataframe\">\n",
       "  <thead>\n",
       "    <tr style=\"text-align: right;\">\n",
       "      <th></th>\n",
       "      <th>name</th>\n",
       "      <th>type</th>\n",
       "      <th>producer</th>\n",
       "      <th>brand</th>\n",
       "      <th>potency</th>\n",
       "      <th>thc_min</th>\n",
       "      <th>thc_max</th>\n",
       "      <th>cbd_min</th>\n",
       "      <th>cbd_max</th>\n",
       "      <th>price</th>\n",
       "      <th>price_per_gram</th>\n",
       "      <th>grams</th>\n",
       "    </tr>\n",
       "  </thead>\n",
       "  <tbody>\n",
       "    <tr>\n",
       "      <th>0</th>\n",
       "      <td>THC Pre Milled Blend</td>\n",
       "      <td>Blend</td>\n",
       "      <td>AgMedica Bioscience</td>\n",
       "      <td>Five Founders</td>\n",
       "      <td>Very Strong</td>\n",
       "      <td>15.0</td>\n",
       "      <td>20.0</td>\n",
       "      <td>0.0</td>\n",
       "      <td>1.0</td>\n",
       "      <td>74.95</td>\n",
       "      <td>3.57</td>\n",
       "      <td>21</td>\n",
       "    </tr>\n",
       "    <tr>\n",
       "      <th>1</th>\n",
       "      <td>All Purpose Flower Indica</td>\n",
       "      <td>Indica Dominant</td>\n",
       "      <td>Hexo Operations</td>\n",
       "      <td>Bake Sale</td>\n",
       "      <td>Strong</td>\n",
       "      <td>14.0</td>\n",
       "      <td>17.0</td>\n",
       "      <td>0.0</td>\n",
       "      <td>1.0</td>\n",
       "      <td>59.95</td>\n",
       "      <td>4.28</td>\n",
       "      <td>14</td>\n",
       "    </tr>\n",
       "    <tr>\n",
       "      <th>2</th>\n",
       "      <td>All Purpose Flower Indica</td>\n",
       "      <td>Indica Dominant</td>\n",
       "      <td>Hexo Operations</td>\n",
       "      <td>Bake Sale</td>\n",
       "      <td>Strong</td>\n",
       "      <td>14.0</td>\n",
       "      <td>17.0</td>\n",
       "      <td>0.0</td>\n",
       "      <td>1.0</td>\n",
       "      <td>99.95</td>\n",
       "      <td>3.57</td>\n",
       "      <td>28</td>\n",
       "    </tr>\n",
       "    <tr>\n",
       "      <th>3</th>\n",
       "      <td>All Purpose Flower Sativa</td>\n",
       "      <td>Sativa Dominant</td>\n",
       "      <td>Hexo Operations</td>\n",
       "      <td>Bake Sale</td>\n",
       "      <td>Strong</td>\n",
       "      <td>14.0</td>\n",
       "      <td>17.0</td>\n",
       "      <td>0.0</td>\n",
       "      <td>1.0</td>\n",
       "      <td>59.95</td>\n",
       "      <td>4.28</td>\n",
       "      <td>14</td>\n",
       "    </tr>\n",
       "    <tr>\n",
       "      <th>4</th>\n",
       "      <td>All Purpose Flower Sativa</td>\n",
       "      <td>Sativa Dominant</td>\n",
       "      <td>Hexo Operations</td>\n",
       "      <td>Bake Sale</td>\n",
       "      <td>Strong</td>\n",
       "      <td>14.0</td>\n",
       "      <td>17.0</td>\n",
       "      <td>0.0</td>\n",
       "      <td>1.0</td>\n",
       "      <td>99.95</td>\n",
       "      <td>3.57</td>\n",
       "      <td>28</td>\n",
       "    </tr>\n",
       "  </tbody>\n",
       "</table>\n",
       "</div>"
      ],
      "text/plain": [
       "                        name             type             producer  \\\n",
       "0       THC Pre Milled Blend            Blend  AgMedica Bioscience   \n",
       "1  All Purpose Flower Indica  Indica Dominant      Hexo Operations   \n",
       "2  All Purpose Flower Indica  Indica Dominant      Hexo Operations   \n",
       "3  All Purpose Flower Sativa  Sativa Dominant      Hexo Operations   \n",
       "4  All Purpose Flower Sativa  Sativa Dominant      Hexo Operations   \n",
       "\n",
       "           brand      potency  thc_min  thc_max  cbd_min  cbd_max  price  \\\n",
       "0  Five Founders  Very Strong     15.0     20.0      0.0      1.0  74.95   \n",
       "1      Bake Sale       Strong     14.0     17.0      0.0      1.0  59.95   \n",
       "2      Bake Sale       Strong     14.0     17.0      0.0      1.0  99.95   \n",
       "3      Bake Sale       Strong     14.0     17.0      0.0      1.0  59.95   \n",
       "4      Bake Sale       Strong     14.0     17.0      0.0      1.0  99.95   \n",
       "\n",
       "  price_per_gram grams  \n",
       "0           3.57    21  \n",
       "1           4.28    14  \n",
       "2           3.57    28  \n",
       "3           4.28    14  \n",
       "4           3.57    28  "
      ]
     },
     "execution_count": 45,
     "metadata": {},
     "output_type": "execute_result"
    }
   ],
   "source": [
    "df.head()"
   ]
  },
  {
   "cell_type": "code",
   "execution_count": 49,
   "id": "493e6fa1-c8a0-4f55-8dea-4bf2896f6122",
   "metadata": {},
   "outputs": [],
   "source": [
    "df.to_csv('ocs_cleaned.csv', index=False)"
   ]
  }
 ],
 "metadata": {
  "kernelspec": {
   "display_name": "Python 3",
   "language": "python",
   "name": "python3"
  },
  "language_info": {
   "codemirror_mode": {
    "name": "ipython",
    "version": 3
   },
   "file_extension": ".py",
   "mimetype": "text/x-python",
   "name": "python",
   "nbconvert_exporter": "python",
   "pygments_lexer": "ipython3",
   "version": "3.7.7"
  }
 },
 "nbformat": 4,
 "nbformat_minor": 5
}
