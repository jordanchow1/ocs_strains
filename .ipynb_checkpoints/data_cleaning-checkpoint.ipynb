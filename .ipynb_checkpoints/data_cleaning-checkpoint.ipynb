{
 "cells": [
  {
   "cell_type": "code",
   "execution_count": 1,
   "id": "23d2a5a2",
   "metadata": {},
   "outputs": [],
   "source": [
    "import pandas as pd\n",
    "import re"
   ]
  },
  {
   "cell_type": "code",
   "execution_count": 2,
   "id": "1c206e77",
   "metadata": {},
   "outputs": [],
   "source": [
    "df = pd.read_csv('ocs.csv')"
   ]
  },
  {
   "cell_type": "code",
   "execution_count": 3,
   "id": "b8e937ea",
   "metadata": {},
   "outputs": [
    {
     "data": {
      "text/plain": [
       "name              object\n",
       "price             object\n",
       "price_per_gram    object\n",
       "grams             object\n",
       "type              object\n",
       "producer          object\n",
       "brand             object\n",
       "potency           object\n",
       "thc               object\n",
       "cbd               object\n",
       "dtype: object"
      ]
     },
     "execution_count": 3,
     "metadata": {},
     "output_type": "execute_result"
    }
   ],
   "source": [
    "df.dtypes"
   ]
  },
  {
   "cell_type": "code",
   "execution_count": 4,
   "id": "70669308",
   "metadata": {},
   "outputs": [],
   "source": [
    "old_shape = df.shape"
   ]
  },
  {
   "cell_type": "code",
   "execution_count": 5,
   "id": "98f9647d",
   "metadata": {},
   "outputs": [],
   "source": [
    "df.drop_duplicates(inplace=True)\n",
    "new_shape = df.shape"
   ]
  },
  {
   "cell_type": "code",
   "execution_count": 6,
   "id": "601e0202",
   "metadata": {},
   "outputs": [
    {
     "data": {
      "text/plain": [
       "51"
      ]
     },
     "execution_count": 6,
     "metadata": {},
     "output_type": "execute_result"
    }
   ],
   "source": [
    "old_shape[0] - new_shape[0] #number of duplicates"
   ]
  },
  {
   "cell_type": "code",
   "execution_count": 7,
   "id": "d60f853e",
   "metadata": {},
   "outputs": [],
   "source": [
    "# Remove '$' from price_per_gram column\n",
    "df['price_per_gram'] = df['price_per_gram'].map(lambda x: x.replace('$',''))"
   ]
  },
  {
   "cell_type": "code",
   "execution_count": 8,
   "id": "1847cb05",
   "metadata": {},
   "outputs": [],
   "source": [
    "df['thc'] = df['thc'].apply(lambda x: x.replace('%',''))\n",
    "df['cbd'] = df['cbd'].apply(lambda x: x.replace('%',''))"
   ]
  },
  {
   "cell_type": "code",
   "execution_count": 9,
   "id": "49d84314",
   "metadata": {},
   "outputs": [],
   "source": [
    "# df.apply(lambda x: x.str.split(', ')).explode(['price', 'price_per_gram', 'grams'])\n",
    "# .reset_index().reindex(df.columns, axis=1)\n",
    "df.price = df.price.astype('string').apply(lambda x: x.split(', '))\n",
    "# df.price_per_gram = df.price_per_gram.astype('string').apply(lambda x: x.replace(' $', ''))\n",
    "df.price_per_gram = df.price_per_gram.apply(lambda x: re.sub(' $', '', x))\n",
    "df.price_per_gram = df.price_per_gram.apply(lambda x: re.sub(' ,', ',', x))\n",
    "df.price_per_gram = df.price_per_gram.astype('string').apply(lambda x: x.split(', '))\n",
    "df.grams = df.grams.astype('string').apply(lambda x: x.split(', '))"
   ]
  },
  {
   "cell_type": "code",
   "execution_count": 10,
   "id": "cdfeb85a",
   "metadata": {},
   "outputs": [],
   "source": [
    "#split thc and cbd range\n",
    "df['thc_min'] = df['thc'].apply(lambda x: x.split(' - ')[0]).astype('float')\n",
    "df['thc_max'] = df['thc'].apply(lambda x: x.split(' - ')[1]).astype('float')\n",
    "df['cbd_min'] = df['cbd'].apply(lambda x: x.split(' - ')[0]).astype('float')\n",
    "df['cbd_max'] = df['cbd'].apply(lambda x: x.split(' - ')[-1].replace('  ', '')).astype('float')\n",
    "df = df.drop(columns = ['thc', 'cbd'])"
   ]
  },
  {
   "cell_type": "markdown",
   "id": "357e125a",
   "metadata": {},
   "source": [
    "Find rows with unequal number of elements"
   ]
  },
  {
   "cell_type": "code",
   "execution_count": 11,
   "id": "522bb13d",
   "metadata": {},
   "outputs": [
    {
     "data": {
      "text/plain": [
       "[71]"
      ]
     },
     "execution_count": 11,
     "metadata": {},
     "output_type": "execute_result"
    }
   ],
   "source": [
    "df = df.sort_index()\n",
    "index = -1\n",
    "false_indices = []\n",
    "for i, j in zip(df['price'], df['price_per_gram']):\n",
    "    index += 1\n",
    "    if len(i) != len(j):\n",
    "        false_indices.append(index)\n",
    "false_indices"
   ]
  },
  {
   "cell_type": "code",
   "execution_count": 12,
   "id": "e812c20a",
   "metadata": {},
   "outputs": [],
   "source": [
    "[df.iloc[71, 1][0]] + df.iloc[71, 2]\n",
    "df.at[71, 'price_per_gram'] = [df.iloc[71, 1][0]] + df.iloc[71, 2]"
   ]
  },
  {
   "cell_type": "code",
   "execution_count": 13,
   "id": "2db6ec99",
   "metadata": {},
   "outputs": [
    {
     "data": {
      "text/plain": [
       "True"
      ]
     },
     "execution_count": 13,
     "metadata": {},
     "output_type": "execute_result"
    }
   ],
   "source": [
    "# Set columns to be untouched as indices\n",
    "df = df.set_index(['name', 'type', 'producer', 'brand', 'potency', 'thc_min', 'thc_max', 'cbd_min', 'cbd_max'])\n",
    "df = df[~df.index.duplicated(keep='first')]\n",
    "df.index.is_unique"
   ]
  },
  {
   "cell_type": "code",
   "execution_count": 14,
   "id": "5c73d22e",
   "metadata": {},
   "outputs": [],
   "source": [
    "df = df.explode(column = ['price', 'price_per_gram', 'grams'])\n",
    "df = df.reset_index()"
   ]
  },
  {
   "cell_type": "code",
   "execution_count": 15,
   "id": "1f6d4574-4ca0-4853-92e3-6dba6f333c03",
   "metadata": {},
   "outputs": [
    {
     "data": {
      "text/plain": [
       "5    400\n",
       "4     32\n",
       "2     10\n",
       "3      9\n",
       "1      5\n",
       "Name: potency, dtype: int64"
      ]
     },
     "execution_count": 15,
     "metadata": {},
     "output_type": "execute_result"
    }
   ],
   "source": [
    "df.loc[df.potency == \"Very Strong\", \"potency\"] = \"5\"\n",
    "df.loc[df.potency == \"Strong\", \"potency\"] = \"4\"\n",
    "df.loc[df.potency == \"Medium\", \"potency\"] = \"3\"\n",
    "df.loc[df.potency == \"Mild\", \"potency\"] = \"2\"\n",
    "df.loc[df.potency == \"Little to Minimal\", \"potency\"] = \"1\"\n",
    "df.potency.value_counts()"
   ]
  },
  {
   "cell_type": "code",
   "execution_count": 16,
   "id": "493e6fa1-c8a0-4f55-8dea-4bf2896f6122",
   "metadata": {},
   "outputs": [],
   "source": [
    "df.to_csv('ocs_cleaned.csv', index=False)"
   ]
  }
 ],
 "metadata": {
  "kernelspec": {
   "display_name": "Python 3",
   "language": "python",
   "name": "python3"
  },
  "language_info": {
   "codemirror_mode": {
    "name": "ipython",
    "version": 3
   },
   "file_extension": ".py",
   "mimetype": "text/x-python",
   "name": "python",
   "nbconvert_exporter": "python",
   "pygments_lexer": "ipython3",
   "version": "3.7.7"
  }
 },
 "nbformat": 4,
 "nbformat_minor": 5
}
