{
 "cells": [
  {
   "cell_type": "code",
   "execution_count": 128,
   "id": "4ad0b623",
   "metadata": {},
   "outputs": [],
   "source": [
    "import pandas as pd\n",
    "import matplotlib.pyplot as plt\n",
    "%matplotlib inline\n",
    "import seaborn as sns\n",
    "import numpy as np\n",
    "import seaborn as sns\n",
    "from sklearn.model_selection import train_test_split\n",
    "from sklearn import linear_model\n",
    "from sklearn.model_selection import cross_val_score\n",
    "from sklearn.metrics import mean_absolute_error\n",
    "from sklearn.ensemble import RandomForestRegressor\n",
    "from sklearn.model_selection import GridSearchCV"
   ]
  },
  {
   "cell_type": "code",
   "execution_count": 154,
   "id": "5a2bf34b",
   "metadata": {},
   "outputs": [],
   "source": [
    "df = pd.read_csv('ocs_cleaned.csv')"
   ]
  },
  {
   "cell_type": "code",
   "execution_count": 155,
   "id": "d7ad6b8d",
   "metadata": {},
   "outputs": [],
   "source": [
    "df.potency = df.potency.astype('category')\n",
    "df.producer = df.producer.astype('category')\n",
    "df.brand = df.brand.astype('category')\n",
    "df.type = df.type.astype('category')"
   ]
  },
  {
   "cell_type": "code",
   "execution_count": 156,
   "id": "8acf807d",
   "metadata": {},
   "outputs": [
    {
     "data": {
      "text/plain": [
       "name               object\n",
       "type                 int8\n",
       "producer             int8\n",
       "brand                int8\n",
       "potency              int8\n",
       "thc_min           float64\n",
       "thc_max           float64\n",
       "cbd_min           float64\n",
       "cbd_max           float64\n",
       "price             float64\n",
       "price_per_gram    float64\n",
       "grams             float64\n",
       "dtype: object"
      ]
     },
     "execution_count": 156,
     "metadata": {},
     "output_type": "execute_result"
    }
   ],
   "source": [
    "cat_columns = df.select_dtypes(['category']).columns\n",
    "df[cat_columns] = df[cat_columns].apply(lambda x: x.cat.codes)"
   ]
  },
  {
   "cell_type": "code",
   "execution_count": 157,
   "id": "729a65f4",
   "metadata": {},
   "outputs": [],
   "source": [
    "X = df.drop(columns = [\"name\", \"price\"])\n",
    "# X_dum = pd.get_dummies(X)\n",
    "y = df.price"
   ]
  },
  {
   "cell_type": "code",
   "execution_count": 158,
   "id": "3f2c43a1",
   "metadata": {},
   "outputs": [],
   "source": [
    "X_train, X_test, y_train, y_test = train_test_split(X, y, test_size = 0.2)"
   ]
  },
  {
   "cell_type": "markdown",
   "id": "42c3f431",
   "metadata": {},
   "source": [
    "#### Multiple Linear Regression"
   ]
  },
  {
   "cell_type": "code",
   "execution_count": 159,
   "id": "41f7e727",
   "metadata": {},
   "outputs": [
    {
     "name": "stdout",
     "output_type": "stream",
     "text": [
      "0.9107166701756425\n"
     ]
    }
   ],
   "source": [
    "reg = linear_model.LinearRegression()\n",
    "print(np.mean(cross_val_score(reg, X_train, y_train, cv=3)))"
   ]
  },
  {
   "cell_type": "code",
   "execution_count": 160,
   "id": "c681b85b",
   "metadata": {},
   "outputs": [
    {
     "data": {
      "text/plain": [
       "8.152250586638043"
      ]
     },
     "execution_count": 160,
     "metadata": {},
     "output_type": "execute_result"
    }
   ],
   "source": [
    "y_pred = reg.fit(X_train, y_train).predict(X_test)\n",
    "mean_absolute_error(y_test, y_pred)"
   ]
  },
  {
   "cell_type": "code",
   "execution_count": 161,
   "id": "747986c3",
   "metadata": {},
   "outputs": [
    {
     "data": {
      "text/plain": [
       "0.8672983700491061"
      ]
     },
     "execution_count": 161,
     "metadata": {},
     "output_type": "execute_result"
    }
   ],
   "source": [
    "reg.fit(X_train, y_train).score(X_test, y_test)"
   ]
  },
  {
   "cell_type": "code",
   "execution_count": 163,
   "id": "2b53536a",
   "metadata": {},
   "outputs": [
    {
     "data": {
      "text/plain": [
       "<matplotlib.collections.PathCollection at 0x7f93d86b7a90>"
      ]
     },
     "execution_count": 163,
     "metadata": {},
     "output_type": "execute_result"
    },
    {
     "data": {
      "image/png": "[encoded data removed]",
      "text/plain": [
       "<Figure size 432x288 with 1 Axes>"
      ]
     },
     "metadata": {
      "needs_background": "light"
     },
     "output_type": "display_data"
    }
   ],
   "source": [
    "plt.scatter(y = y_pred,x = y_test)"
   ]
  },
  {
   "cell_type": "markdown",
   "id": "7abce6c2",
   "metadata": {},
   "source": [
    "#### Lasso Regression"
   ]
  },
  {
   "cell_type": "code",
   "execution_count": 164,
   "id": "edc4de1b",
   "metadata": {},
   "outputs": [
    {
     "name": "stdout",
     "output_type": "stream",
     "text": [
      "0.9107166701756425\n"
     ]
    }
   ],
   "source": [
    "las = linear_model.Lasso()\n",
    "print(np.mean(cross_val_score(reg, X_train, y_train, cv=3)))"
   ]
  },
  {
   "cell_type": "code",
   "execution_count": 165,
   "id": "8510bcd6",
   "metadata": {},
   "outputs": [
    {
     "data": {
      "text/plain": [
       "7.5681888734071"
      ]
     },
     "execution_count": 165,
     "metadata": {},
     "output_type": "execute_result"
    }
   ],
   "source": [
    "y_pred = las.fit(X_train, y_train).predict(X_test)\n",
    "mean_absolute_error(y_test, y_pred)"
   ]
  },
  {
   "cell_type": "code",
   "execution_count": 166,
   "id": "419182c9",
   "metadata": {},
   "outputs": [
    {
     "data": {
      "text/plain": [
       "0.8681826527314723"
      ]
     },
     "execution_count": 166,
     "metadata": {},
     "output_type": "execute_result"
    }
   ],
   "source": [
    "las.fit(X_train, y_train).score(X_test, y_test)"
   ]
  },
  {
   "cell_type": "code",
   "execution_count": 167,
   "id": "6429df7d",
   "metadata": {},
   "outputs": [
    {
     "data": {
      "text/plain": [
       "<matplotlib.collections.PathCollection at 0x7f93d9377c90>"
      ]
     },
     "execution_count": 167,
     "metadata": {},
     "output_type": "execute_result"
    },
    {
     "data": {
      "image/png": "[encoded data removed]",
      "text/plain": [
       "<Figure size 432x288 with 1 Axes>"
      ]
     },
     "metadata": {
      "needs_background": "light"
     },
     "output_type": "display_data"
    }
   ],
   "source": [
    "plt.scatter(y = y_pred,x = y_test)"
   ]
  },
  {
   "cell_type": "markdown",
   "id": "66b11af8",
   "metadata": {},
   "source": [
    "#### Random Forest"
   ]
  },
  {
   "cell_type": "code",
   "execution_count": 168,
   "id": "5a98f64b",
   "metadata": {},
   "outputs": [],
   "source": [
    "rf = RandomForestRegressor()"
   ]
  },
  {
   "cell_type": "code",
   "execution_count": 169,
   "id": "a0569fab",
   "metadata": {},
   "outputs": [
    {
     "name": "stdout",
     "output_type": "stream",
     "text": [
      "0.9936579746157678\n"
     ]
    }
   ],
   "source": [
    "print(np.mean(cross_val_score(rf, X_train, y_train, cv = 3)))"
   ]
  },
  {
   "cell_type": "code",
   "execution_count": 170,
   "id": "6da58fcc",
   "metadata": {},
   "outputs": [
    {
     "data": {
      "text/plain": [
       "0.8532945652173937"
      ]
     },
     "execution_count": 170,
     "metadata": {},
     "output_type": "execute_result"
    }
   ],
   "source": [
    "y_pred = rf.fit(X_train, y_train).predict(X_test)\n",
    "mean_absolute_error(y_test, y_pred)"
   ]
  },
  {
   "cell_type": "code",
   "execution_count": 171,
   "id": "bfcac789",
   "metadata": {},
   "outputs": [
    {
     "data": {
      "text/plain": [
       "0.9956238169289777"
      ]
     },
     "execution_count": 171,
     "metadata": {},
     "output_type": "execute_result"
    }
   ],
   "source": [
    "rf.fit(X_train, y_train).score(X_test, y_test)"
   ]
  },
  {
   "cell_type": "code",
   "execution_count": 172,
   "id": "2897f431",
   "metadata": {},
   "outputs": [
    {
     "data": {
      "text/plain": [
       "<matplotlib.collections.PathCollection at 0x7f93d93d24d0>"
      ]
     },
     "execution_count": 172,
     "metadata": {},
     "output_type": "execute_result"
    },
    {
     "data": {
      "image/png": "[encoded data removed]",
      "text/plain": [
       "<Figure size 432x288 with 1 Axes>"
      ]
     },
     "metadata": {
      "needs_background": "light"
     },
     "output_type": "display_data"
    }
   ],
   "source": [
    "plt.scatter(y_pred,y_test)"
   ]
  }
 ],
 "metadata": {
  "kernelspec": {
   "display_name": "Python 3",
   "language": "python",
   "name": "python3"
  },
  "language_info": {
   "codemirror_mode": {
    "name": "ipython",
    "version": 3
   },
   "file_extension": ".py",
   "mimetype": "text/x-python",
   "name": "python",
   "nbconvert_exporter": "python",
   "pygments_lexer": "ipython3",
   "version": "3.7.7"
  }
 },
 "nbformat": 4,
 "nbformat_minor": 5
}
